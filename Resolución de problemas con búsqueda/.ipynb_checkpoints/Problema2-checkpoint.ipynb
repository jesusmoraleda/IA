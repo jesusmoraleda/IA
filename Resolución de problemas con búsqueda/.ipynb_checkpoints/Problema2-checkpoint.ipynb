{
 "cells": [
  {
   "cell_type": "code",
   "execution_count": null,
   "metadata": {},
   "outputs": [],
   "source": [
    "#Jesús Martín Moraleda(Amarillo) y Jorge Arevalo Echeverria(Azul) G13"
   ]
  },
  {
   "cell_type": "code",
   "execution_count": 1,
   "metadata": {},
   "outputs": [
    {
     "name": "stdout",
     "output_type": "stream",
     "text": [
      "C:\\Users\\Jesus Martin\\source\\IA\\Resolución de problemas con búsqueda\\aima-python\n"
     ]
    }
   ],
   "source": [
    "cd aima-python"
   ]
  },
  {
   "cell_type": "code",
   "execution_count": 2,
   "metadata": {},
   "outputs": [],
   "source": [
    "# Cargamos el módulo con los algoritmos de búsqueda.\n",
    "from search import *\n",
    "from search import breadth_first_tree_search, depth_first_tree_search, depth_first_graph_search, breadth_first_graph_search"
   ]
  },
  {
   "cell_type": "code",
   "execution_count": 3,
   "metadata": {},
   "outputs": [],
   "source": [
    " class Problem(object):\n",
    "\n",
    "    \"\"\"The abstract class for a formal problem. You should subclass\n",
    "    this and implement the methods actions and result, and possibly\n",
    "    __init__, goal_test, and path_cost. Then you will create instances\n",
    "    of your subclass and solve them with the various search functions.\"\"\"\n",
    "\n",
    "\n",
    "    def __init__(self, initial, goal=None):\n",
    "        \"\"\"The constructor specifies the initial state, and possibly a goal\n",
    "        state, if there is a unique goal. Your subclass's constructor can add\n",
    "        other arguments.\"\"\"\n",
    "        self.initial = initial\n",
    "        self.goal = goal\n",
    "\n",
    "    def actions(self, state):\n",
    "        \"\"\"Return the actions that can be executed in the given\n",
    "        state. The result would typically be a list, but if there are\n",
    "        many actions, consider yielding them one at a time in an\n",
    "        iterator, rather than building them all at once.\"\"\"\n",
    "        raise NotImplementedError\n",
    "\n",
    "    def result(self, state, action):\n",
    "        \"\"\"Return the state that results from executing the given\n",
    "        action in the given state. The action must be one of\n",
    "        self.actions(state).\"\"\"\n",
    "        raise NotImplementedError\n",
    "\n",
    "    def goal_test(self, state):\n",
    "        \"\"\"Return True if the state is a goal. The default method compares the\n",
    "        state to self.goal or checks for state in self.goal if it is a\n",
    "        list, as specified in the constructor. Override this method if\n",
    "        checking against a single self.goal is not enough.\"\"\"\n",
    "        if isinstance(self.goal, list):\n",
    "            return is_in(state, self.goal)\n",
    "        else:\n",
    "            return state == self.goal\n",
    "\n",
    "    def path_cost(self, c, state1, action, state2):\n",
    "        \"\"\"Return the cost of a solution path that arrives at state2 from\n",
    "        state1 via action, assuming cost c to get up to state1. If the problem\n",
    "        is such that the path doesn't matter, this function will only look at\n",
    "        state2.  If the path does matter, it will consider c and maybe state1\n",
    "        and action. The default method costs 1 for every step in the path.\"\"\"\n",
    "        return c + 1\n",
    "\n",
    "    def value(self, state):\n",
    "        \"\"\"For optimization problems, each state has a value.  Hill-climbing\n",
    "        and related algorithms try to maximize this value.\"\"\"\n",
    "        raise NotImplementedError\n",
    "\n",
    "    def coste_de_aplicar_accion(self, estado, accion):\n",
    "        \"\"\"Hemos incluido está función que devuelve el coste de un único operador (aplicar accion a estado). Por defecto, este\n",
    "        coste es 1. Reimplementar si el problema define otro coste \"\"\" \n",
    "        return 1"
   ]
  },
  {
   "cell_type": "code",
   "execution_count": 7,
   "metadata": {},
   "outputs": [],
   "source": [
    "# Creamos la clase ProblemaLinterna con los elementos que representarán el problema. \n",
    "class ProblemaPuzzle(Problem):\n",
    "    ''' Clase problema (formalizacion de nuestro problema) siguiendo la\n",
    "        estructura que aima espera que tengan los problemas.'''\n",
    "    #cada estado se representara como (numeros) siendo numeros una tupla con el orden de los numeros en el puzzle \n",
    "\n",
    "    def __init__(self, initial, goal=66):\n",
    "        '''Inicializacion de nuestro problema.'''\n",
    "        self.initial = initial\n",
    "        self.goal = goal\n",
    "        self._count = 0\n",
    "        Problem.__init__(self, initial, goal)\n",
    "        \n",
    "\n",
    "    def actions(self, s):\n",
    "        '''Devuelve las acciones validas para un estado.'''\n",
    "        # las acciones validas para un estado son aquellas que al aplicarse nos dejan en otro estado valido\n",
    "        # Hemos pensado como accion válida cambiar dos números de posición\n",
    "        \n",
    "        accs=list()\n",
    "        for i in range(9):\n",
    "            for j in range(9):\n",
    "                if(i != j):\n",
    "                    accs.append((i,j))\n",
    "        return accs\n",
    "\n",
    "    \n",
    "    def goal_test(self, s):\n",
    "        \"\"\"Return True if the state is a goal.\"\"\"  \n",
    "        return ((((((((((((s[0] + 13) * s[1]) / s[2]) + s[3]) + 12) * s[4]) - s[5]) - 11) + s[6]) * s[7]) / s[8]) - 10 ) == self.goal \n",
    "        \n",
    "    def result(self, s, a):\n",
    "        '''Devuelve el estado resultante de aplicar una accion a un estado\n",
    "           determinado.'''\n",
    "        #hago un cast al estado para tener el estado como una lista y poder operar con cada valor,\n",
    "        #luego lo vuelvo a dejar como tupla\n",
    "        \n",
    "        self._count+=1\n",
    "        \n",
    "        s_list = list(s)\n",
    "        aux = s_list[a[0]]\n",
    "        s_list[a[0]] = s_list[a[1]]\n",
    "        s_list[a[1]] = aux\n",
    "        s = tuple(s_list)\n",
    "        return s\n",
    "        "
   ]
  },
  {
   "cell_type": "code",
   "execution_count": 8,
   "metadata": {},
   "outputs": [],
   "source": [
    "puzzle = ProblemaPuzzle((4,9,5,8,7,6,2,1,3), 66)"
   ]
  },
  {
   "cell_type": "markdown",
   "metadata": {},
   "source": [
    "### primero en anchura y en profundidad para ver heuristica y despues resolver el problema para A*"
   ]
  },
  {
   "cell_type": "code",
   "execution_count": 9,
   "metadata": {},
   "outputs": [
    {
     "data": {
      "text/plain": [
       "[(0, 1), (0, 4), (2, 3)]"
      ]
     },
     "execution_count": 9,
     "metadata": {},
     "output_type": "execute_result"
    }
   ],
   "source": [
    "breadth_first_graph_search(puzzle).solution()"
   ]
  },
  {
   "cell_type": "code",
   "execution_count": null,
   "metadata": {},
   "outputs": [],
   "source": [
    "#La salida representa las posiciones de los numeros que se intercambian en el tablero"
   ]
  },
  {
   "cell_type": "code",
   "execution_count": 22,
   "metadata": {},
   "outputs": [],
   "source": [
    "#Heurística para el puzzle. A cada estado le asigno el valor absoluto de la diferencia entre el valor del estado objetivo\n",
    "#y el valor del estado actual. Cuanto más cerca esté del objetivo (66) menor será el valor que le de la heurística a ese nodo\n",
    "#por lo que tendrá mas posibilidades de seguir por ese camino\n",
    "\n",
    "#Muchas veces el método A* tarda mas que el primero en anchura, supongo que será porque la heurística no es buena del todo\n",
    "#o porque al ser un problema no muy complicado los métodos ciegos son mas eficaces.\n",
    "\n",
    "import math\n",
    "\n",
    "def linear(node):\n",
    "    goal = 66\n",
    "    s = node.state\n",
    "    suma_node = ((((((((((((s[0] + 13) * s[1]) / s[2]) + s[3]) + 12) * s[4]) - s[5]) - 11) + s[6]) * s[7]) / s[8]) - 10 )\n",
    "    return abs(goal - suma_node)\n",
    "        "
   ]
  },
  {
   "cell_type": "code",
   "execution_count": 23,
   "metadata": {},
   "outputs": [
    {
     "data": {
      "text/plain": [
       "[(0, 8), (2, 8), (3, 5), (1, 4), (1, 3), (3, 5)]"
      ]
     },
     "execution_count": 23,
     "metadata": {},
     "output_type": "execute_result"
    }
   ],
   "source": [
    "astar_search(puzzle, linear).solution()"
   ]
  },
  {
   "cell_type": "code",
   "execution_count": null,
   "metadata": {},
   "outputs": [],
   "source": []
  }
 ],
 "metadata": {
  "kernelspec": {
   "display_name": "Python 3",
   "language": "python",
   "name": "python3"
  },
  "language_info": {
   "codemirror_mode": {
    "name": "ipython",
    "version": 3
   },
   "file_extension": ".py",
   "mimetype": "text/x-python",
   "name": "python",
   "nbconvert_exporter": "python",
   "pygments_lexer": "ipython3",
   "version": "3.7.6"
  }
 },
 "nbformat": 4,
 "nbformat_minor": 4
}
