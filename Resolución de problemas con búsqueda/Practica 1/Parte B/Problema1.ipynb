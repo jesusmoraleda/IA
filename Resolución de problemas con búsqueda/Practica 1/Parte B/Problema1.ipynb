{
 "cells": [
  {
   "cell_type": "code",
   "execution_count": null,
   "metadata": {},
   "outputs": [],
   "source": [
    "#Jesús Martín Moraleda(Amarillo) y Jorge Arevalo Echeverria(Azul) G13"
   ]
  },
  {
   "cell_type": "code",
   "execution_count": 2,
   "metadata": {},
   "outputs": [
    {
     "name": "stdout",
     "output_type": "stream",
     "text": [
      "C:\\Users\\Jesus Martin\\source\\IA\\Resolución de problemas con búsqueda\\aima-python\n"
     ]
    }
   ],
   "source": [
    "cd aima-python"
   ]
  },
  {
   "cell_type": "code",
   "execution_count": 11,
   "metadata": {},
   "outputs": [],
   "source": [
    "# Cargamos el módulo con los algoritmos de búsqueda.\n",
    "from search import *\n",
    "from search import breadth_first_tree_search, depth_first_tree_search, depth_first_graph_search, breadth_first_graph_search"
   ]
  },
  {
   "cell_type": "code",
   "execution_count": 3,
   "metadata": {},
   "outputs": [],
   "source": [
    " class Problem(object):\n",
    "\n",
    "    \"\"\"The abstract class for a formal problem. You should subclass\n",
    "    this and implement the methods actions and result, and possibly\n",
    "    __init__, goal_test, and path_cost. Then you will create instances\n",
    "    of your subclass and solve them with the various search functions.\"\"\"\n",
    "\n",
    "\n",
    "    def __init__(self, initial, goal=None):\n",
    "        \"\"\"The constructor specifies the initial state, and possibly a goal\n",
    "        state, if there is a unique goal. Your subclass's constructor can add\n",
    "        other arguments.\"\"\"\n",
    "        self.initial = initial\n",
    "        self.goal = goal\n",
    "\n",
    "    def actions(self, state):\n",
    "        \"\"\"Return the actions that can be executed in the given\n",
    "        state. The result would typically be a list, but if there are\n",
    "        many actions, consider yielding them one at a time in an\n",
    "        iterator, rather than building them all at once.\"\"\"\n",
    "        raise NotImplementedError\n",
    "\n",
    "    def result(self, state, action):\n",
    "        \"\"\"Return the state that results from executing the given\n",
    "        action in the given state. The action must be one of\n",
    "        self.actions(state).\"\"\"\n",
    "        raise NotImplementedError\n",
    "\n",
    "    def goal_test(self, state):\n",
    "        \"\"\"Return True if the state is a goal. The default method compares the\n",
    "        state to self.goal or checks for state in self.goal if it is a\n",
    "        list, as specified in the constructor. Override this method if\n",
    "        checking against a single self.goal is not enough.\"\"\"\n",
    "        if isinstance(self.goal, list):\n",
    "            return is_in(state, self.goal)\n",
    "        else:\n",
    "            return state == self.goal\n",
    "\n",
    "    def path_cost(self, c, state1, action, state2):\n",
    "        \"\"\"Return the cost of a solution path that arrives at state2 from\n",
    "        state1 via action, assuming cost c to get up to state1. If the problem\n",
    "        is such that the path doesn't matter, this function will only look at\n",
    "        state2.  If the path does matter, it will consider c and maybe state1\n",
    "        and action. The default method costs 1 for every step in the path.\"\"\"\n",
    "        return c + 1\n",
    "\n",
    "    def value(self, state):\n",
    "        \"\"\"For optimization problems, each state has a value.  Hill-climbing\n",
    "        and related algorithms try to maximize this value.\"\"\"\n",
    "        raise NotImplementedError\n",
    "\n",
    "    def coste_de_aplicar_accion(self, estado, accion):\n",
    "        \"\"\"Hemos incluido está función que devuelve el coste de un único operador (aplicar accion a estado). Por defecto, este\n",
    "        coste es 1. Reimplementar si el problema define otro coste \"\"\" \n",
    "        return 1"
   ]
  },
  {
   "cell_type": "code",
   "execution_count": 4,
   "metadata": {},
   "outputs": [],
   "source": [
    "# Creamos la clase ProblemaLinterna con los elementos que representarán el problema. \n",
    "class ProblemaLinterna(Problem):\n",
    "    ''' Clase problema (formalizacion de nuestro problema) siguiendo la\n",
    "        estructura que aima espera que tengan los problemas.'''\n",
    "    #el estado se representara como (linterna,tiempoAcumulado, ladoPersonas) siendo lado, el lado en el que se encuentra la linterna\n",
    "    # y tiempoAcumlado el tiempo que llevamos hasta el momento\n",
    "\n",
    "    def __init__(self, initial, goal = 300):\n",
    "        '''Inicializacion de nuestro problema.'''\n",
    "        self.goal = goal\n",
    "        Problem.__init__(self, initial, goal)\n",
    "        #tiempo de cada persona\n",
    "        self._tiempoPersona = [10,30,60,80,120]\n",
    "\n",
    "    def actions(self, s):\n",
    "        '''Devuelve las acciones validas para un estado.'''\n",
    "        #Las acciones es coger a una persona y llevarla con otra hacia el lado final, o que vuelva una al estado original\n",
    "        \n",
    "        accs=list()\n",
    "        for i in range(5):\n",
    "            if s[2][i] == s[0]: #si la persona i está en el mismo lado que la linterna\n",
    "                for j in range(i,5):\n",
    "                    if s[2][j] == s[0]:#si la persona j esta en el mismo lado que la linterna\n",
    "                        if s[0] == 0: # si la linterna esta en el origen solo tiene sentido que crucen dos personas(distintas)\n",
    "                            if i != j:\n",
    "                                accs.append((i,j))\n",
    "                        else: #si esta en el lado final solo tiene sentido que vuelva una persona\n",
    "                            accs.append((j,j))\n",
    "                        \n",
    "        \n",
    "        \n",
    "        return accs\n",
    "        #la idea es generar las acciones como una tupla, por ejemplo. si cruzan 1 y 2: (1,2)\n",
    "        #puedes hacer todas las combinaciones con un bucle dependiendo del número de personas\n",
    "        \n",
    "    def goal_test(self, state):\n",
    "        \"\"\"Return True if the state is a goal.\"\"\"\n",
    "    \n",
    "        for i in range(5):\n",
    "            if(state[2][i] == 0):\n",
    "                return False\n",
    "            \n",
    "        return (state[1] <= self.goal)\n",
    "        \n",
    "    def result(self, s, a):\n",
    "        '''Devuelve el estado resultante de aplicar una accion a un estado\n",
    "           determinado.'''\n",
    "        # el estado resultante tiene la linterna en el lado opuesto, y con las cantidades tiempo actualizadas,\n",
    "        # segun el tiempo maximo de las dos personas que cruzaran el puente\n",
    "        #hago un casteo de la tupla de en que lado estan las personas para poder editarlo, no se hacerlo de otra forma\n",
    "        #aunque tiene que haber alguna\n",
    "        \n",
    "        s_list = list(s[2])\n",
    "        \n",
    "        if s[0] == 0:\n",
    "            s_list[a[0]] = 1\n",
    "            s_list[a[1]] = 1\n",
    "            return (1, s[1] + max(self._tiempoPersona[a[0]], self._tiempoPersona[a[1]]), tuple(s_list))\n",
    "        else:#si la linterna esta en el lado contrario solo vuelve una persona, por lo que a[0] = a[1]\n",
    "            s_list[a[0]] = 0\n",
    "            return (0, s[1] + self._tiempoPersona[a[0]], tuple(s_list))\n",
    "        "
   ]
  },
  {
   "cell_type": "code",
   "execution_count": 5,
   "metadata": {},
   "outputs": [],
   "source": [
    "linterna = ProblemaLinterna((0,0,(0,0,0,0,0)), 300)"
   ]
  },
  {
   "cell_type": "markdown",
   "metadata": {},
   "source": [
    "### primero en anchura y en profundidad para ver heuristica y despues resolver el problema para A*"
   ]
  },
  {
   "cell_type": "code",
   "execution_count": 6,
   "metadata": {},
   "outputs": [
    {
     "data": {
      "text/plain": [
       "[(0, 1), (0, 0), (0, 2), (0, 0), (3, 4), (1, 1), (0, 1)]"
      ]
     },
     "execution_count": 6,
     "metadata": {},
     "output_type": "execute_result"
    }
   ],
   "source": [
    "breadth_first_graph_search(linterna).solution()"
   ]
  },
  {
   "cell_type": "code",
   "execution_count": null,
   "metadata": {},
   "outputs": [],
   "source": [
    "#La solución es la tupla de personas que van, y la persona que vuelve. Cuando la tupla tiene dos numeros distintos representa\n",
    "#las dos personas que van del origen al destino. Cuando la tupla tiene el mismo elemento, ej: (0,0), representa la persona\n",
    "#que vuelve del destino al origen para traer la linterna"
   ]
  },
  {
   "cell_type": "code",
   "execution_count": 7,
   "metadata": {},
   "outputs": [],
   "source": [
    "# Heuristicas para el problema de la linterna. Le asigno el numero de personas que no están en el lado objetivo.\n",
    "#También había pensado en incluir el tiempo total que lleva acumulado ese estado, pero creo que eso no sería muy bueno para\n",
    "#la heurística\n",
    "import math\n",
    "\n",
    "def linear(node):\n",
    "    goal = (1,1,1,1,1)\n",
    "    state = node.state\n",
    "    #nos devuelve el numero de personas que no están en el destino\n",
    "    return sum([1 for i in range(5) if state[2][i] != goal[i]])\n",
    "\n",
    "        "
   ]
  },
  {
   "cell_type": "code",
   "execution_count": 9,
   "metadata": {},
   "outputs": [
    {
     "data": {
      "text/plain": [
       "[(0, 1), (0, 0), (3, 4), (1, 1), (0, 1), (0, 0), (0, 2)]"
      ]
     },
     "execution_count": 9,
     "metadata": {},
     "output_type": "execute_result"
    }
   ],
   "source": [
    "astar_search(linterna,linear).solution()"
   ]
  },
  {
   "cell_type": "code",
   "execution_count": null,
   "metadata": {},
   "outputs": [],
   "source": []
  }
 ],
 "metadata": {
  "kernelspec": {
   "display_name": "Python 3",
   "language": "python",
   "name": "python3"
  },
  "language_info": {
   "codemirror_mode": {
    "name": "ipython",
    "version": 3
   },
   "file_extension": ".py",
   "mimetype": "text/x-python",
   "name": "python",
   "nbconvert_exporter": "python",
   "pygments_lexer": "ipython3",
   "version": "3.7.6"
  }
 },
 "nbformat": 4,
 "nbformat_minor": 4
}
