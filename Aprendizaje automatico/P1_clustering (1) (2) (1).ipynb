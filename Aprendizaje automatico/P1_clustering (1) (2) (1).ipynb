{
 "cells": [
  {
   "cell_type": "markdown",
   "metadata": {},
   "source": [
    "# Práctica 2: Aprendizaje automático\n",
    "\n",
    "__Fecha de entrega: 16 de mayo de 2021__\n",
    "\n",
    "El objetivo de esta práctica es aplicar los distintos algoritmos de aprendizaje automático disponibles en la scikit-learn [sklearn](https://scikit-learn.org/stable/) sobre varios conjuntos de datos y aprender a interpretar los resultados obtenidos. La práctica consta de 3 notebooks que se entregarán simultáneamente en la tarea de entrega habilitada en el Campus  Virtual.\n",
    "\n",
    "Lo más importante en esta práctica no es el código Python, sino el análisis de los datos y modelos que construyas y las explicaciones razonadas de cada una de las decisiones que tomes. __No se valorarán trozos de código o gráficas sin ningún tipo de contexto o explicación__.\n",
    "\n",
    "Finalmente, recuerda establecer el parámetro `random_state` en todas las funciones que tomen decisiones aleatorias para que los resultados sean reproducibles (los resultados no varíen entre ejecuciones)."
   ]
  },
  {
   "cell_type": "markdown",
   "metadata": {},
   "source": [
    "# Apartado 1: Clustering"
   ]
  },
  {
   "cell_type": "markdown",
   "metadata": {},
   "source": [
    "__Número de grupo: \n",
    "\n",
    "__Nombres de los estudiantes: XXX y XXX__"
   ]
  },
  {
   "cell_type": "markdown",
   "metadata": {},
   "source": [
    "## 1) Carga del conjunto de datos\n",
    "\n",
    "Crea un dataframe a partir del fichero `countries_of_the_world.csv` que se proporciona junto con la práctica. Usa como índice el nombre de los países. \n",
    "\n",
    "Vamos a eliminar la columna `Region` por ser categórica y todas las filas en las que faltan valores usando la operación `dropna`.\n",
    "\n",
    "Muestra el dataframe resultante y explica cuántos países y variables contiene."
   ]
  },
  {
   "cell_type": "code",
   "execution_count": 85,
   "metadata": {
    "scrolled": true
   },
   "outputs": [
    {
     "data": {
      "text/html": [
       "<div>\n",
       "<style scoped>\n",
       "    .dataframe tbody tr th:only-of-type {\n",
       "        vertical-align: middle;\n",
       "    }\n",
       "\n",
       "    .dataframe tbody tr th {\n",
       "        vertical-align: top;\n",
       "    }\n",
       "\n",
       "    .dataframe thead th {\n",
       "        text-align: right;\n",
       "    }\n",
       "</style>\n",
       "<table border=\"1\" class=\"dataframe\">\n",
       "  <thead>\n",
       "    <tr style=\"text-align: right;\">\n",
       "      <th></th>\n",
       "      <th>Country</th>\n",
       "      <th>Population</th>\n",
       "      <th>Area (sq. mi.)</th>\n",
       "      <th>Pop. Density (per sq. mi.)</th>\n",
       "      <th>Coastline (coast/area ratio)</th>\n",
       "      <th>Net migration</th>\n",
       "      <th>Infant mortality (per 1000 births)</th>\n",
       "      <th>GDP ($ per capita)</th>\n",
       "      <th>Literacy (%)</th>\n",
       "      <th>Phones (per 1000)</th>\n",
       "      <th>Arable (%)</th>\n",
       "      <th>Crops (%)</th>\n",
       "      <th>Other (%)</th>\n",
       "      <th>Climate</th>\n",
       "      <th>Birthrate</th>\n",
       "      <th>Deathrate</th>\n",
       "      <th>Agriculture</th>\n",
       "      <th>Industry</th>\n",
       "      <th>Service</th>\n",
       "    </tr>\n",
       "  </thead>\n",
       "  <tbody>\n",
       "    <tr>\n",
       "      <th>0</th>\n",
       "      <td>Afghanistan</td>\n",
       "      <td>31056997</td>\n",
       "      <td>647500</td>\n",
       "      <td>48.0</td>\n",
       "      <td>0.00</td>\n",
       "      <td>23.06</td>\n",
       "      <td>163.07</td>\n",
       "      <td>700.0</td>\n",
       "      <td>36.0</td>\n",
       "      <td>3.2</td>\n",
       "      <td>12.13</td>\n",
       "      <td>0.22</td>\n",
       "      <td>87.65</td>\n",
       "      <td>1.0</td>\n",
       "      <td>46.60</td>\n",
       "      <td>20.34</td>\n",
       "      <td>0.380</td>\n",
       "      <td>0.240</td>\n",
       "      <td>0.380</td>\n",
       "    </tr>\n",
       "    <tr>\n",
       "      <th>1</th>\n",
       "      <td>Albania</td>\n",
       "      <td>3581655</td>\n",
       "      <td>28748</td>\n",
       "      <td>124.6</td>\n",
       "      <td>1.26</td>\n",
       "      <td>-4.93</td>\n",
       "      <td>21.52</td>\n",
       "      <td>4500.0</td>\n",
       "      <td>86.5</td>\n",
       "      <td>71.2</td>\n",
       "      <td>21.09</td>\n",
       "      <td>4.42</td>\n",
       "      <td>74.49</td>\n",
       "      <td>3.0</td>\n",
       "      <td>15.11</td>\n",
       "      <td>5.22</td>\n",
       "      <td>0.232</td>\n",
       "      <td>0.188</td>\n",
       "      <td>0.579</td>\n",
       "    </tr>\n",
       "    <tr>\n",
       "      <th>2</th>\n",
       "      <td>Algeria</td>\n",
       "      <td>32930091</td>\n",
       "      <td>2381740</td>\n",
       "      <td>13.8</td>\n",
       "      <td>0.04</td>\n",
       "      <td>-0.39</td>\n",
       "      <td>31.00</td>\n",
       "      <td>6000.0</td>\n",
       "      <td>70.0</td>\n",
       "      <td>78.1</td>\n",
       "      <td>3.22</td>\n",
       "      <td>0.25</td>\n",
       "      <td>96.53</td>\n",
       "      <td>1.0</td>\n",
       "      <td>17.14</td>\n",
       "      <td>4.61</td>\n",
       "      <td>0.101</td>\n",
       "      <td>0.600</td>\n",
       "      <td>0.298</td>\n",
       "    </tr>\n",
       "    <tr>\n",
       "      <th>6</th>\n",
       "      <td>Anguilla</td>\n",
       "      <td>13477</td>\n",
       "      <td>102</td>\n",
       "      <td>132.1</td>\n",
       "      <td>59.80</td>\n",
       "      <td>10.76</td>\n",
       "      <td>21.03</td>\n",
       "      <td>8600.0</td>\n",
       "      <td>95.0</td>\n",
       "      <td>460.0</td>\n",
       "      <td>0.00</td>\n",
       "      <td>0.00</td>\n",
       "      <td>100.00</td>\n",
       "      <td>2.0</td>\n",
       "      <td>14.17</td>\n",
       "      <td>5.34</td>\n",
       "      <td>0.040</td>\n",
       "      <td>0.180</td>\n",
       "      <td>0.780</td>\n",
       "    </tr>\n",
       "    <tr>\n",
       "      <th>7</th>\n",
       "      <td>Antigua &amp; Barbuda</td>\n",
       "      <td>69108</td>\n",
       "      <td>443</td>\n",
       "      <td>156.0</td>\n",
       "      <td>34.54</td>\n",
       "      <td>-6.15</td>\n",
       "      <td>19.46</td>\n",
       "      <td>11000.0</td>\n",
       "      <td>89.0</td>\n",
       "      <td>549.9</td>\n",
       "      <td>18.18</td>\n",
       "      <td>4.55</td>\n",
       "      <td>77.27</td>\n",
       "      <td>2.0</td>\n",
       "      <td>16.93</td>\n",
       "      <td>5.37</td>\n",
       "      <td>0.038</td>\n",
       "      <td>0.220</td>\n",
       "      <td>0.743</td>\n",
       "    </tr>\n",
       "    <tr>\n",
       "      <th>...</th>\n",
       "      <td>...</td>\n",
       "      <td>...</td>\n",
       "      <td>...</td>\n",
       "      <td>...</td>\n",
       "      <td>...</td>\n",
       "      <td>...</td>\n",
       "      <td>...</td>\n",
       "      <td>...</td>\n",
       "      <td>...</td>\n",
       "      <td>...</td>\n",
       "      <td>...</td>\n",
       "      <td>...</td>\n",
       "      <td>...</td>\n",
       "      <td>...</td>\n",
       "      <td>...</td>\n",
       "      <td>...</td>\n",
       "      <td>...</td>\n",
       "      <td>...</td>\n",
       "      <td>...</td>\n",
       "    </tr>\n",
       "    <tr>\n",
       "      <th>218</th>\n",
       "      <td>Venezuela</td>\n",
       "      <td>25730435</td>\n",
       "      <td>912050</td>\n",
       "      <td>28.2</td>\n",
       "      <td>0.31</td>\n",
       "      <td>-0.04</td>\n",
       "      <td>22.20</td>\n",
       "      <td>4800.0</td>\n",
       "      <td>93.4</td>\n",
       "      <td>140.1</td>\n",
       "      <td>2.95</td>\n",
       "      <td>0.92</td>\n",
       "      <td>96.13</td>\n",
       "      <td>2.0</td>\n",
       "      <td>18.71</td>\n",
       "      <td>4.92</td>\n",
       "      <td>0.040</td>\n",
       "      <td>0.419</td>\n",
       "      <td>0.541</td>\n",
       "    </tr>\n",
       "    <tr>\n",
       "      <th>219</th>\n",
       "      <td>Vietnam</td>\n",
       "      <td>84402966</td>\n",
       "      <td>329560</td>\n",
       "      <td>256.1</td>\n",
       "      <td>1.05</td>\n",
       "      <td>-0.45</td>\n",
       "      <td>25.95</td>\n",
       "      <td>2500.0</td>\n",
       "      <td>90.3</td>\n",
       "      <td>187.7</td>\n",
       "      <td>19.97</td>\n",
       "      <td>5.95</td>\n",
       "      <td>74.08</td>\n",
       "      <td>2.0</td>\n",
       "      <td>16.86</td>\n",
       "      <td>6.22</td>\n",
       "      <td>0.209</td>\n",
       "      <td>0.410</td>\n",
       "      <td>0.381</td>\n",
       "    </tr>\n",
       "    <tr>\n",
       "      <th>224</th>\n",
       "      <td>Yemen</td>\n",
       "      <td>21456188</td>\n",
       "      <td>527970</td>\n",
       "      <td>40.6</td>\n",
       "      <td>0.36</td>\n",
       "      <td>0.00</td>\n",
       "      <td>61.50</td>\n",
       "      <td>800.0</td>\n",
       "      <td>50.2</td>\n",
       "      <td>37.2</td>\n",
       "      <td>2.78</td>\n",
       "      <td>0.24</td>\n",
       "      <td>96.98</td>\n",
       "      <td>1.0</td>\n",
       "      <td>42.89</td>\n",
       "      <td>8.30</td>\n",
       "      <td>0.135</td>\n",
       "      <td>0.472</td>\n",
       "      <td>0.393</td>\n",
       "    </tr>\n",
       "    <tr>\n",
       "      <th>225</th>\n",
       "      <td>Zambia</td>\n",
       "      <td>11502010</td>\n",
       "      <td>752614</td>\n",
       "      <td>15.3</td>\n",
       "      <td>0.00</td>\n",
       "      <td>0.00</td>\n",
       "      <td>88.29</td>\n",
       "      <td>800.0</td>\n",
       "      <td>80.6</td>\n",
       "      <td>8.2</td>\n",
       "      <td>7.08</td>\n",
       "      <td>0.03</td>\n",
       "      <td>92.90</td>\n",
       "      <td>2.0</td>\n",
       "      <td>41.00</td>\n",
       "      <td>19.93</td>\n",
       "      <td>0.220</td>\n",
       "      <td>0.290</td>\n",
       "      <td>0.489</td>\n",
       "    </tr>\n",
       "    <tr>\n",
       "      <th>226</th>\n",
       "      <td>Zimbabwe</td>\n",
       "      <td>12236805</td>\n",
       "      <td>390580</td>\n",
       "      <td>31.3</td>\n",
       "      <td>0.00</td>\n",
       "      <td>0.00</td>\n",
       "      <td>67.69</td>\n",
       "      <td>1900.0</td>\n",
       "      <td>90.7</td>\n",
       "      <td>26.8</td>\n",
       "      <td>8.32</td>\n",
       "      <td>0.34</td>\n",
       "      <td>91.34</td>\n",
       "      <td>2.0</td>\n",
       "      <td>28.01</td>\n",
       "      <td>21.84</td>\n",
       "      <td>0.179</td>\n",
       "      <td>0.243</td>\n",
       "      <td>0.579</td>\n",
       "    </tr>\n",
       "  </tbody>\n",
       "</table>\n",
       "<p>179 rows × 19 columns</p>\n",
       "</div>"
      ],
      "text/plain": [
       "                Country  Population  Area (sq. mi.)  \\\n",
       "0          Afghanistan     31056997          647500   \n",
       "1              Albania      3581655           28748   \n",
       "2              Algeria     32930091         2381740   \n",
       "6             Anguilla        13477             102   \n",
       "7    Antigua & Barbuda        69108             443   \n",
       "..                  ...         ...             ...   \n",
       "218          Venezuela     25730435          912050   \n",
       "219            Vietnam     84402966          329560   \n",
       "224              Yemen     21456188          527970   \n",
       "225             Zambia     11502010          752614   \n",
       "226           Zimbabwe     12236805          390580   \n",
       "\n",
       "     Pop. Density (per sq. mi.)  Coastline (coast/area ratio)  Net migration  \\\n",
       "0                          48.0                          0.00          23.06   \n",
       "1                         124.6                          1.26          -4.93   \n",
       "2                          13.8                          0.04          -0.39   \n",
       "6                         132.1                         59.80          10.76   \n",
       "7                         156.0                         34.54          -6.15   \n",
       "..                          ...                           ...            ...   \n",
       "218                        28.2                          0.31          -0.04   \n",
       "219                       256.1                          1.05          -0.45   \n",
       "224                        40.6                          0.36           0.00   \n",
       "225                        15.3                          0.00           0.00   \n",
       "226                        31.3                          0.00           0.00   \n",
       "\n",
       "     Infant mortality (per 1000 births)  GDP ($ per capita)  Literacy (%)  \\\n",
       "0                                163.07               700.0          36.0   \n",
       "1                                 21.52              4500.0          86.5   \n",
       "2                                 31.00              6000.0          70.0   \n",
       "6                                 21.03              8600.0          95.0   \n",
       "7                                 19.46             11000.0          89.0   \n",
       "..                                  ...                 ...           ...   \n",
       "218                               22.20              4800.0          93.4   \n",
       "219                               25.95              2500.0          90.3   \n",
       "224                               61.50               800.0          50.2   \n",
       "225                               88.29               800.0          80.6   \n",
       "226                               67.69              1900.0          90.7   \n",
       "\n",
       "     Phones (per 1000)  Arable (%)  Crops (%)  Other (%)  Climate  Birthrate  \\\n",
       "0                  3.2       12.13       0.22      87.65      1.0      46.60   \n",
       "1                 71.2       21.09       4.42      74.49      3.0      15.11   \n",
       "2                 78.1        3.22       0.25      96.53      1.0      17.14   \n",
       "6                460.0        0.00       0.00     100.00      2.0      14.17   \n",
       "7                549.9       18.18       4.55      77.27      2.0      16.93   \n",
       "..                 ...         ...        ...        ...      ...        ...   \n",
       "218              140.1        2.95       0.92      96.13      2.0      18.71   \n",
       "219              187.7       19.97       5.95      74.08      2.0      16.86   \n",
       "224               37.2        2.78       0.24      96.98      1.0      42.89   \n",
       "225                8.2        7.08       0.03      92.90      2.0      41.00   \n",
       "226               26.8        8.32       0.34      91.34      2.0      28.01   \n",
       "\n",
       "     Deathrate  Agriculture  Industry  Service  \n",
       "0        20.34        0.380     0.240    0.380  \n",
       "1         5.22        0.232     0.188    0.579  \n",
       "2         4.61        0.101     0.600    0.298  \n",
       "6         5.34        0.040     0.180    0.780  \n",
       "7         5.37        0.038     0.220    0.743  \n",
       "..         ...          ...       ...      ...  \n",
       "218       4.92        0.040     0.419    0.541  \n",
       "219       6.22        0.209     0.410    0.381  \n",
       "224       8.30        0.135     0.472    0.393  \n",
       "225      19.93        0.220     0.290    0.489  \n",
       "226      21.84        0.179     0.243    0.579  \n",
       "\n",
       "[179 rows x 19 columns]"
      ]
     },
     "execution_count": 85,
     "metadata": {},
     "output_type": "execute_result"
    }
   ],
   "source": [
    "import pandas as pd\n",
    "df = pd.read_csv('countries_of_the_world.csv')\n",
    "df.set_index(\"Country\")\n",
    "df.pop(\"Region\")\n",
    "df.dropna()"
   ]
  },
  {
   "cell_type": "markdown",
   "metadata": {},
   "source": [
    "Como bien vemos en el dataframe que acabamos de crear, obtenemos un total de 179 paises(filas) y 19 variables(columnas) asociadas a esos paises. Hemos eliminado la columna Region con df.pop(\"Region\") y todas las filas donde faltaba al menos un elemento con df.dropna()"
   ]
  },
  {
   "cell_type": "markdown",
   "metadata": {},
   "source": [
    "## 2) Análisis de los datos\n",
    "\n",
    "En este notebook vamos a trabajar con un subconjunto de las variables. Crea un nuevo dataframe que sólo contenga las variables `GDP ($ per capita)`, `Literacy (%)`, `Phones (per 1000)`, `Agriculture`, `Industry` y `Service`. ¿Qué crees que representan cada una de esas variables?\n",
    "\n",
    "Analiza razonadamente las distribuciones de cada una de las variables (medias, desviaciones típicas, rangos, ...) y las principales relaciones entre pares de variables (diagrama de dispersión, coeficientes de correlación, ...)."
   ]
  },
  {
   "cell_type": "code",
   "execution_count": 86,
   "metadata": {
    "scrolled": true
   },
   "outputs": [
    {
     "data": {
      "text/html": [
       "<div>\n",
       "<style scoped>\n",
       "    .dataframe tbody tr th:only-of-type {\n",
       "        vertical-align: middle;\n",
       "    }\n",
       "\n",
       "    .dataframe tbody tr th {\n",
       "        vertical-align: top;\n",
       "    }\n",
       "\n",
       "    .dataframe thead th {\n",
       "        text-align: right;\n",
       "    }\n",
       "</style>\n",
       "<table border=\"1\" class=\"dataframe\">\n",
       "  <thead>\n",
       "    <tr style=\"text-align: right;\">\n",
       "      <th></th>\n",
       "      <th>Country</th>\n",
       "      <th>GDP ($ per capita)</th>\n",
       "      <th>Literacy (%)</th>\n",
       "      <th>Phones (per 1000)</th>\n",
       "      <th>Deathrate</th>\n",
       "      <th>Agriculture</th>\n",
       "      <th>Industry</th>\n",
       "      <th>Service</th>\n",
       "    </tr>\n",
       "  </thead>\n",
       "  <tbody>\n",
       "    <tr>\n",
       "      <th>0</th>\n",
       "      <td>Afghanistan</td>\n",
       "      <td>700.0</td>\n",
       "      <td>36.0</td>\n",
       "      <td>3.2</td>\n",
       "      <td>20.34</td>\n",
       "      <td>0.380</td>\n",
       "      <td>0.240</td>\n",
       "      <td>0.380</td>\n",
       "    </tr>\n",
       "    <tr>\n",
       "      <th>1</th>\n",
       "      <td>Albania</td>\n",
       "      <td>4500.0</td>\n",
       "      <td>86.5</td>\n",
       "      <td>71.2</td>\n",
       "      <td>5.22</td>\n",
       "      <td>0.232</td>\n",
       "      <td>0.188</td>\n",
       "      <td>0.579</td>\n",
       "    </tr>\n",
       "    <tr>\n",
       "      <th>2</th>\n",
       "      <td>Algeria</td>\n",
       "      <td>6000.0</td>\n",
       "      <td>70.0</td>\n",
       "      <td>78.1</td>\n",
       "      <td>4.61</td>\n",
       "      <td>0.101</td>\n",
       "      <td>0.600</td>\n",
       "      <td>0.298</td>\n",
       "    </tr>\n",
       "    <tr>\n",
       "      <th>3</th>\n",
       "      <td>American Samoa</td>\n",
       "      <td>8000.0</td>\n",
       "      <td>97.0</td>\n",
       "      <td>259.5</td>\n",
       "      <td>3.27</td>\n",
       "      <td>NaN</td>\n",
       "      <td>NaN</td>\n",
       "      <td>NaN</td>\n",
       "    </tr>\n",
       "    <tr>\n",
       "      <th>4</th>\n",
       "      <td>Andorra</td>\n",
       "      <td>19000.0</td>\n",
       "      <td>100.0</td>\n",
       "      <td>497.2</td>\n",
       "      <td>6.25</td>\n",
       "      <td>NaN</td>\n",
       "      <td>NaN</td>\n",
       "      <td>NaN</td>\n",
       "    </tr>\n",
       "    <tr>\n",
       "      <th>...</th>\n",
       "      <td>...</td>\n",
       "      <td>...</td>\n",
       "      <td>...</td>\n",
       "      <td>...</td>\n",
       "      <td>...</td>\n",
       "      <td>...</td>\n",
       "      <td>...</td>\n",
       "      <td>...</td>\n",
       "    </tr>\n",
       "    <tr>\n",
       "      <th>222</th>\n",
       "      <td>West Bank</td>\n",
       "      <td>800.0</td>\n",
       "      <td>NaN</td>\n",
       "      <td>145.2</td>\n",
       "      <td>3.92</td>\n",
       "      <td>0.090</td>\n",
       "      <td>0.280</td>\n",
       "      <td>0.630</td>\n",
       "    </tr>\n",
       "    <tr>\n",
       "      <th>223</th>\n",
       "      <td>Western Sahara</td>\n",
       "      <td>NaN</td>\n",
       "      <td>NaN</td>\n",
       "      <td>NaN</td>\n",
       "      <td>NaN</td>\n",
       "      <td>NaN</td>\n",
       "      <td>NaN</td>\n",
       "      <td>0.400</td>\n",
       "    </tr>\n",
       "    <tr>\n",
       "      <th>224</th>\n",
       "      <td>Yemen</td>\n",
       "      <td>800.0</td>\n",
       "      <td>50.2</td>\n",
       "      <td>37.2</td>\n",
       "      <td>8.30</td>\n",
       "      <td>0.135</td>\n",
       "      <td>0.472</td>\n",
       "      <td>0.393</td>\n",
       "    </tr>\n",
       "    <tr>\n",
       "      <th>225</th>\n",
       "      <td>Zambia</td>\n",
       "      <td>800.0</td>\n",
       "      <td>80.6</td>\n",
       "      <td>8.2</td>\n",
       "      <td>19.93</td>\n",
       "      <td>0.220</td>\n",
       "      <td>0.290</td>\n",
       "      <td>0.489</td>\n",
       "    </tr>\n",
       "    <tr>\n",
       "      <th>226</th>\n",
       "      <td>Zimbabwe</td>\n",
       "      <td>1900.0</td>\n",
       "      <td>90.7</td>\n",
       "      <td>26.8</td>\n",
       "      <td>21.84</td>\n",
       "      <td>0.179</td>\n",
       "      <td>0.243</td>\n",
       "      <td>0.579</td>\n",
       "    </tr>\n",
       "  </tbody>\n",
       "</table>\n",
       "<p>227 rows × 8 columns</p>\n",
       "</div>"
      ],
      "text/plain": [
       "             Country  GDP ($ per capita)  Literacy (%)  Phones (per 1000)  \\\n",
       "0       Afghanistan                700.0          36.0                3.2   \n",
       "1           Albania               4500.0          86.5               71.2   \n",
       "2           Algeria               6000.0          70.0               78.1   \n",
       "3    American Samoa               8000.0          97.0              259.5   \n",
       "4           Andorra              19000.0         100.0              497.2   \n",
       "..               ...                 ...           ...                ...   \n",
       "222       West Bank                800.0           NaN              145.2   \n",
       "223  Western Sahara                  NaN           NaN                NaN   \n",
       "224           Yemen                800.0          50.2               37.2   \n",
       "225          Zambia                800.0          80.6                8.2   \n",
       "226        Zimbabwe               1900.0          90.7               26.8   \n",
       "\n",
       "     Deathrate  Agriculture  Industry  Service  \n",
       "0        20.34        0.380     0.240    0.380  \n",
       "1         5.22        0.232     0.188    0.579  \n",
       "2         4.61        0.101     0.600    0.298  \n",
       "3         3.27          NaN       NaN      NaN  \n",
       "4         6.25          NaN       NaN      NaN  \n",
       "..         ...          ...       ...      ...  \n",
       "222       3.92        0.090     0.280    0.630  \n",
       "223        NaN          NaN       NaN    0.400  \n",
       "224       8.30        0.135     0.472    0.393  \n",
       "225      19.93        0.220     0.290    0.489  \n",
       "226      21.84        0.179     0.243    0.579  \n",
       "\n",
       "[227 rows x 8 columns]"
      ]
     },
     "execution_count": 86,
     "metadata": {},
     "output_type": "execute_result"
    }
   ],
   "source": [
    "df = pd.read_csv('countries_of_the_world.csv')\n",
    "df.iloc[:, [0,8,9,10,16,17,18,19]]"
   ]
  },
  {
   "cell_type": "code",
   "execution_count": 87,
   "metadata": {
    "scrolled": true
   },
   "outputs": [
    {
     "name": "stdout",
     "output_type": "stream",
     "text": [
      "\n",
      "-GDP ($ per capita)-\n",
      "    Media: 9689\n",
      "    Mediana: 5550\n",
      "    Moda: 800\n",
      "    Desviación típica: 10026\n",
      "    Rango: 54600\n",
      "\n"
     ]
    }
   ],
   "source": [
    "media = df[\"GDP ($ per capita)\"].mean()\n",
    "mediana = df[\"GDP ($ per capita)\"].median()\n",
    "moda = df[\"GDP ($ per capita)\"].mode()\n",
    "std = df[\"GDP ($ per capita)\"].std(ddof=0)\n",
    "rango = df[\"GDP ($ per capita)\"].max() - df[\"GDP ($ per capita)\"].min()\n",
    "print(\"\"\"\n",
    "-GDP ($ per capita)-\n",
    "    Media: %d\n",
    "    Mediana: %d\n",
    "    Moda: %d\n",
    "    Desviación típica: %d\n",
    "    Rango: %d\n",
    "\"\"\" % (media,mediana,moda,std,rango))"
   ]
  },
  {
   "cell_type": "code",
   "execution_count": 88,
   "metadata": {},
   "outputs": [
    {
     "name": "stdout",
     "output_type": "stream",
     "text": [
      "\n",
      "-Literacy-\n",
      "    Media: 82\n",
      "    Mediana: 92\n",
      "    Moda: 99\n",
      "    Desviación típica: 19\n",
      "    Rango: 82\n",
      "\n"
     ]
    }
   ],
   "source": [
    "media = df[\"Literacy (%)\"].mean()\n",
    "mediana = df[\"Literacy (%)\"].median()\n",
    "moda = df[\"Literacy (%)\"].mode()\n",
    "std = df[\"Literacy (%)\"].std(ddof=0)\n",
    "rango = df[\"Literacy (%)\"].max() - df[\"Literacy (%)\"].min()\n",
    "print(\"\"\"\n",
    "-Literacy-\n",
    "    Media: %d\n",
    "    Mediana: %d\n",
    "    Moda: %d\n",
    "    Desviación típica: %d\n",
    "    Rango: %d\n",
    "\"\"\" % (media,mediana,moda,std,rango))"
   ]
  },
  {
   "cell_type": "code",
   "execution_count": 89,
   "metadata": {},
   "outputs": [
    {
     "name": "stdout",
     "output_type": "stream",
     "text": [
      "\n",
      "-Phones (per 1000)-\n",
      "    Media: 236\n",
      "    Mediana: 176\n",
      "    Desviación típica: 227\n",
      "    Rango: 1035\n",
      "\n"
     ]
    }
   ],
   "source": [
    "media = df[\"Phones (per 1000)\"].mean()\n",
    "mediana = df[\"Phones (per 1000)\"].median()\n",
    "std = df[\"Phones (per 1000)\"].std(ddof=0)\n",
    "rango = df[\"Phones (per 1000)\"].max() - df[\"Phones (per 1000)\"].min()\n",
    "print(\"\"\"\n",
    "-Phones (per 1000)-\n",
    "    Media: %d\n",
    "    Mediana: %d\n",
    "    Desviación típica: %d\n",
    "    Rango: %d\n",
    "\"\"\" % (media,mediana,std,rango))"
   ]
  },
  {
   "cell_type": "code",
   "execution_count": 90,
   "metadata": {},
   "outputs": [
    {
     "name": "stdout",
     "output_type": "stream",
     "text": [
      "\n",
      "-Deathrate-\n",
      "    Media: 9\n",
      "    Mediana: 7\n",
      "    Desviación típica: 4\n",
      "    Rango: 27\n",
      "\n"
     ]
    }
   ],
   "source": [
    "media = df[\"Deathrate\"].mean()\n",
    "mediana = df[\"Deathrate\"].median()\n",
    "std = df[\"Deathrate\"].std(ddof=0)\n",
    "rango = df[\"Deathrate\"].max() - df[\"Deathrate\"].min()\n",
    "print(\"\"\"\n",
    "-Deathrate-\n",
    "    Media: %d\n",
    "    Mediana: %d\n",
    "    Desviación típica: %d\n",
    "    Rango: %d\n",
    "\"\"\" % (media,mediana,std,rango))"
   ]
  },
  {
   "cell_type": "code",
   "execution_count": 91,
   "metadata": {},
   "outputs": [
    {
     "name": "stdout",
     "output_type": "stream",
     "text": [
      "\n",
      "-Agriculture-\n",
      "    Media: 0.150844\n",
      "    Mediana: 0.099000\n",
      "    Desviación típica: 0.146451\n",
      "    Rango: 0.769000\n",
      "\n"
     ]
    }
   ],
   "source": [
    "media = df[\"Agriculture\"].mean()\n",
    "mediana = df[\"Agriculture\"].median()\n",
    "std = df[\"Agriculture\"].std(ddof=0)\n",
    "rango = df[\"Agriculture\"].max() - df[\"Agriculture\"].min()\n",
    "print(\"\"\"\n",
    "-Agriculture-\n",
    "    Media: %f\n",
    "    Mediana: %f\n",
    "    Desviación típica: %f\n",
    "    Rango: %f\n",
    "\"\"\" % (media,mediana,std,rango))"
   ]
  },
  {
   "cell_type": "code",
   "execution_count": 92,
   "metadata": {
    "scrolled": true
   },
   "outputs": [
    {
     "name": "stdout",
     "output_type": "stream",
     "text": [
      "\n",
      "-Industry-\n",
      "    Media: 0.282711\n",
      "    Mediana: 0.272000\n",
      "    Desviación típica: 0.137944\n",
      "    Rango: 0.886000\n",
      "\n"
     ]
    }
   ],
   "source": [
    "media = df[\"Industry\"].mean()\n",
    "mediana = df[\"Industry\"].median()\n",
    "std = df[\"Industry\"].std(ddof=0)\n",
    "rango = df[\"Industry\"].max() - df[\"Industry\"].min()\n",
    "print(\"\"\"\n",
    "-Industry-\n",
    "    Media: %f\n",
    "    Mediana: %f\n",
    "    Desviación típica: %f\n",
    "    Rango: %f\n",
    "\"\"\" % (media,mediana,std,rango))"
   ]
  },
  {
   "cell_type": "code",
   "execution_count": 93,
   "metadata": {},
   "outputs": [
    {
     "name": "stdout",
     "output_type": "stream",
     "text": [
      "\n",
      "-Service-\n",
      "    Media: 0.565283\n",
      "    Mediana: 0.571000\n",
      "    Desviación típica: 0.165449\n",
      "    Rango: 0.892000\n",
      "\n"
     ]
    }
   ],
   "source": [
    "media = df[\"Service\"].mean()\n",
    "mediana = df[\"Service\"].median()\n",
    "std = df[\"Service\"].std(ddof=0)\n",
    "rango = df[\"Service\"].max() - df[\"Service\"].min()\n",
    "print(\"\"\"\n",
    "-Service-\n",
    "    Media: %f\n",
    "    Mediana: %f\n",
    "    Desviación típica: %f\n",
    "    Rango: %f\n",
    "\"\"\" % (media,mediana,std,rango))"
   ]
  },
  {
   "cell_type": "code",
   "execution_count": 94,
   "metadata": {
    "scrolled": true
   },
   "outputs": [
    {
     "data": {
      "image/png": "[encoded data removed]",
      "text/plain": [
       "<Figure size 432x288 with 1 Axes>"
      ]
     },
     "metadata": {
      "needs_background": "light"
     },
     "output_type": "display_data"
    }
   ],
   "source": [
    "'''Diagrama de dispersion'''\n",
    "import matplotlib.pyplot as plt\n",
    "plt.plot(df[\"Agriculture\"], 'r--', df[\"Service\"], 'bs')\n",
    "plt.show()\n"
   ]
  },
  {
   "cell_type": "markdown",
   "metadata": {},
   "source": [
    "En este diagrama de dispersión podemos comparar los valores que tomas las dos variables (Agriculture y Service)"
   ]
  },
  {
   "cell_type": "code",
   "execution_count": 95,
   "metadata": {
    "scrolled": true
   },
   "outputs": [
    {
     "data": {
      "image/png": "[encoded data removed]",
      "text/plain": [
       "<Figure size 432x288 with 1 Axes>"
      ]
     },
     "metadata": {
      "needs_background": "light"
     },
     "output_type": "display_data"
    }
   ],
   "source": [
    "'''Coeficiente de correlación'''\n",
    "fig, ax = plt.subplots(1, 1, figsize=(6,4))\n",
    "ax.scatter(df[\"GDP ($ per capita)\"], df[\"Phones (per 1000)\"], alpha= 0.8)\n",
    "ax.set_xlabel('GDP')\n",
    "ax.set_ylabel('Phones');"
   ]
  },
  {
   "cell_type": "markdown",
   "metadata": {},
   "source": [
    "El diagrama de dispersión parece indicar una relación lineal positiva entre ambas variables (GDP y phones).\n",
    "\n",
    "En los dos gráficos anteriores puede ver claramente que los pares de variables independientes con una correlación más alta tienen un gráfico de dispersión más lineal que las variables independientes que tienen una correlación relativamente menor"
   ]
  },
  {
   "cell_type": "markdown",
   "metadata": {},
   "source": [
    "## 3) Preprocesar los datos\n",
    "\n",
    "Teniendo en cuenta que vamos a utilizar el algoritmo k-Means para encontrar grupos de países similares, explica razonadamente si es necesario o no cambiar la escalas de los datos y si a priori es mejor reescalarlos (MinMaxScaler) o estandarizarlos (StandarScaler).\n",
    "\n",
    "Si decides preprocesarlos, accede al array interno del dataframe y crea un nuevo array con los datos escalados."
   ]
  },
  {
   "cell_type": "code",
   "execution_count": 96,
   "metadata": {},
   "outputs": [
    {
     "name": "stdout",
     "output_type": "stream",
     "text": [
      "     Population  Area (sq. mi.)  Pop. Density (per sq. mi.)  \\\n",
      "0      0.023631        0.037920                    0.002950   \n",
      "1      0.002720        0.001683                    0.007658   \n",
      "2      0.025056        0.139485                    0.000848   \n",
      "3      0.000039        0.000012                    0.017847   \n",
      "4      0.000049        0.000027                    0.009348   \n",
      "..          ...             ...                         ...   \n",
      "222    0.001867        0.000343                    0.025806   \n",
      "223    0.000202        0.015578                    0.000061   \n",
      "224    0.016324        0.030920                    0.002495   \n",
      "225    0.008748        0.044076                    0.000940   \n",
      "226    0.009308        0.022874                    0.001924   \n",
      "\n",
      "     Coastline (coast/area ratio)  Net migration  \\\n",
      "0                        0.000000       1.000000   \n",
      "1                        0.001447       0.364586   \n",
      "2                        0.000046       0.467650   \n",
      "3                        0.066949       0.006356   \n",
      "4                        0.000000       0.626334   \n",
      "..                            ...            ...   \n",
      "222                      0.000000       0.544154   \n",
      "223                      0.000482            NaN   \n",
      "224                      0.000413       0.476504   \n",
      "225                      0.000000       0.476504   \n",
      "226                      0.000000       0.476504   \n",
      "\n",
      "     Infant mortality (per 1000 births)  GDP ($ per capita)  Literacy (%)  \\\n",
      "0                              0.851138            0.003663      0.223301   \n",
      "1                              0.101800            0.073260      0.836165   \n",
      "2                              0.151985            0.100733      0.635922   \n",
      "3                              0.036951            0.137363      0.963592   \n",
      "4                              0.009317            0.338828      1.000000   \n",
      "..                                  ...                 ...           ...   \n",
      "222                            0.091742            0.005495           NaN   \n",
      "223                                 NaN                 NaN           NaN   \n",
      "224                            0.313446            0.005495      0.395631   \n",
      "225                            0.455267            0.005495      0.764563   \n",
      "226                            0.346215            0.025641      0.887136   \n",
      "\n",
      "     Phones (per 1000)  Arable (%)  Crops (%)  Other (%)   Climate  Birthrate  \\\n",
      "0             0.002897    0.195299   0.004341   0.814759  0.000000   0.904926   \n",
      "1             0.068573    0.339559   0.087214   0.617369  0.666667   0.180018   \n",
      "2             0.075237    0.051844   0.004933   0.947953  0.000000   0.226750   \n",
      "3             0.250435    0.161005   0.295975   0.625019  0.333333   0.349217   \n",
      "4             0.480008    0.035743   0.000000   0.966702  0.666667   0.032689   \n",
      "..                 ...         ...        ...        ...       ...        ...   \n",
      "222           0.140042    0.272098   0.374309   0.461977  0.666667   0.561234   \n",
      "223                NaN    0.000322   0.000000   0.999700  0.000000        NaN   \n",
      "224           0.035735    0.044759   0.004736   0.954702  0.000000   0.819521   \n",
      "225           0.007726    0.113991   0.000592   0.893505  0.333333   0.776013   \n",
      "226           0.025691    0.133956   0.006709   0.870106  0.333333   0.476980   \n",
      "\n",
      "     Deathrate  Agriculture  Industry   Service  \n",
      "0     0.657559     0.494148  0.248307  0.356502  \n",
      "1     0.106740     0.301691  0.189616  0.579596  \n",
      "2     0.084517     0.131339  0.654628  0.264574  \n",
      "3     0.035701          NaN       NaN       NaN  \n",
      "4     0.144262          NaN       NaN       NaN  \n",
      "..         ...          ...       ...       ...  \n",
      "222   0.059381     0.117035  0.293454  0.636771  \n",
      "223        NaN          NaN       NaN  0.378924  \n",
      "224   0.218944     0.175553  0.510158  0.371076  \n",
      "225   0.642623     0.286086  0.304740  0.478700  \n",
      "226   0.712204     0.232770  0.251693  0.579596  \n",
      "\n",
      "[227 rows x 18 columns]\n"
     ]
    }
   ],
   "source": [
    "# MinMaxScaler escala los datos al intervalo [0-1] sin modificar su distribución\n",
    "# StandardScaler cambia la distribución para que estén centrados en 0 y tengan varianza 1 (como una normal). \n",
    "\n",
    "#tenemos que agrupar en funcion de X, y despues lo utilizamos para los clusters\n",
    "#ya que en nuestro archivo no manejaremos numeros negativos hemos decidido normalizar(MinMaxScaler)\n",
    "from sklearn.preprocessing import MinMaxScaler\n",
    "scaler = MinMaxScaler()\n",
    "df = pd.read_csv('countries_of_the_world.csv')\n",
    "\n",
    "transformed_df = scaler.fit_transform(df.iloc[:, 2:20])\n",
    "\n",
    "transformed_df = pd.DataFrame(transformed_df)\n",
    "df.pop(\"Country\")\n",
    "df.pop(\"Region\")\n",
    "transformed_df.columns = df.columns\n",
    "print(transformed_df)"
   ]
  },
  {
   "cell_type": "code",
   "execution_count": 97,
   "metadata": {},
   "outputs": [
    {
     "name": "stdout",
     "output_type": "stream",
     "text": [
      "     Population  Area (sq. mi.)  Pop. Density (per sq. mi.)  \\\n",
      "0      0.023631        0.037920                    0.002950   \n",
      "1      0.002720        0.001683                    0.007658   \n",
      "2      0.025056        0.139485                    0.000848   \n",
      "6      0.000005        0.000006                    0.008118   \n",
      "7      0.000047        0.000026                    0.009587   \n",
      "..          ...             ...                         ...   \n",
      "218    0.019577        0.053414                    0.001733   \n",
      "219    0.064230        0.019300                    0.015739   \n",
      "224    0.016324        0.030920                    0.002495   \n",
      "225    0.008748        0.044076                    0.000940   \n",
      "226    0.009308        0.022874                    0.001924   \n",
      "\n",
      "     Coastline (coast/area ratio)  Net migration  \\\n",
      "0                        0.000000       1.000000   \n",
      "1                        0.001447       0.364586   \n",
      "2                        0.000046       0.467650   \n",
      "6                        0.068684       0.720772   \n",
      "7                        0.039671       0.336890   \n",
      "..                            ...            ...   \n",
      "218                      0.000356       0.475596   \n",
      "219                      0.001206       0.466288   \n",
      "224                      0.000413       0.476504   \n",
      "225                      0.000000       0.476504   \n",
      "226                      0.000000       0.476504   \n",
      "\n",
      "     Infant mortality (per 1000 births)  GDP ($ per capita)  Literacy (%)  \\\n",
      "0                              0.851138            0.003663      0.223301   \n",
      "1                              0.101800            0.073260      0.836165   \n",
      "2                              0.151985            0.100733      0.635922   \n",
      "6                              0.099206            0.148352      0.939320   \n",
      "7                              0.090895            0.192308      0.866505   \n",
      "..                                  ...                 ...           ...   \n",
      "218                            0.105400            0.078755      0.919903   \n",
      "219                            0.125251            0.036630      0.882282   \n",
      "224                            0.313446            0.005495      0.395631   \n",
      "225                            0.455267            0.005495      0.764563   \n",
      "226                            0.346215            0.025641      0.887136   \n",
      "\n",
      "     Phones (per 1000)  Arable (%)  Crops (%)  Other (%)   Climate  Birthrate  \\\n",
      "0             0.002897    0.195299   0.004341   0.814759  0.000000   0.904926   \n",
      "1             0.068573    0.339559   0.087214   0.617369  0.666667   0.180018   \n",
      "2             0.075237    0.051844   0.004933   0.947953  0.000000   0.226750   \n",
      "6             0.444080    0.000000   0.000000   1.000000  0.333333   0.158379   \n",
      "7             0.530906    0.292706   0.089779   0.659067  0.333333   0.221915   \n",
      "..                 ...         ...        ...        ...       ...        ...   \n",
      "218           0.135117    0.047496   0.018153   0.941953  0.333333   0.262891   \n",
      "219           0.181089    0.321526   0.117403   0.611219  0.333333   0.220304   \n",
      "224           0.035735    0.044759   0.004736   0.954702  0.000000   0.819521   \n",
      "225           0.007726    0.113991   0.000592   0.893505  0.333333   0.776013   \n",
      "226           0.025691    0.133956   0.006709   0.870106  0.333333   0.476980   \n",
      "\n",
      "     Deathrate  Agriculture  Industry   Service  \n",
      "0     0.657559     0.494148  0.248307  0.356502  \n",
      "1     0.106740     0.301691  0.189616  0.579596  \n",
      "2     0.084517     0.131339  0.654628  0.264574  \n",
      "6     0.111111     0.052016  0.180587  0.804933  \n",
      "7     0.112204     0.049415  0.225734  0.763453  \n",
      "..         ...          ...       ...       ...  \n",
      "218   0.095811     0.052016  0.450339  0.536996  \n",
      "219   0.143169     0.271782  0.440181  0.357623  \n",
      "224   0.218944     0.175553  0.510158  0.371076  \n",
      "225   0.642623     0.286086  0.304740  0.478700  \n",
      "226   0.712204     0.232770  0.251693  0.579596  \n",
      "\n",
      "[179 rows x 18 columns]\n"
     ]
    }
   ],
   "source": [
    "#eliminamos los elemntos NaN, que nos provocarian error al encontrar el numero optimo de clusters\n",
    "transformed_df = transformed_df.dropna()\n",
    "print(transformed_df)"
   ]
  },
  {
   "cell_type": "markdown",
   "metadata": {},
   "source": [
    "Es necesario escalar ya que nuestro vector tiene valores extremadamente altos(se puede observar esto en el grafico del coeficiente de correlacion). Escalando esos valores nuestro algoritmo opera con valores cercanos.\n",
    "\n",
    "Podemos confirmar la distribución de las características con el método describe, que ofrece información estadística del dataframe:"
   ]
  },
  {
   "cell_type": "code",
   "execution_count": 98,
   "metadata": {},
   "outputs": [
    {
     "data": {
      "text/html": [
       "<div>\n",
       "<style scoped>\n",
       "    .dataframe tbody tr th:only-of-type {\n",
       "        vertical-align: middle;\n",
       "    }\n",
       "\n",
       "    .dataframe tbody tr th {\n",
       "        vertical-align: top;\n",
       "    }\n",
       "\n",
       "    .dataframe thead th {\n",
       "        text-align: right;\n",
       "    }\n",
       "</style>\n",
       "<table border=\"1\" class=\"dataframe\">\n",
       "  <thead>\n",
       "    <tr style=\"text-align: right;\">\n",
       "      <th></th>\n",
       "      <th>Population</th>\n",
       "      <th>Area (sq. mi.)</th>\n",
       "      <th>Pop. Density (per sq. mi.)</th>\n",
       "      <th>Coastline (coast/area ratio)</th>\n",
       "      <th>Net migration</th>\n",
       "      <th>Infant mortality (per 1000 births)</th>\n",
       "      <th>GDP ($ per capita)</th>\n",
       "      <th>Literacy (%)</th>\n",
       "      <th>Phones (per 1000)</th>\n",
       "      <th>Arable (%)</th>\n",
       "      <th>Crops (%)</th>\n",
       "      <th>Other (%)</th>\n",
       "      <th>Climate</th>\n",
       "      <th>Birthrate</th>\n",
       "      <th>Deathrate</th>\n",
       "      <th>Agriculture</th>\n",
       "      <th>Industry</th>\n",
       "      <th>Service</th>\n",
       "    </tr>\n",
       "  </thead>\n",
       "  <tbody>\n",
       "    <tr>\n",
       "      <th>count</th>\n",
       "      <td>179.000000</td>\n",
       "      <td>179.000000</td>\n",
       "      <td>179.000000</td>\n",
       "      <td>179.000000</td>\n",
       "      <td>179.000000</td>\n",
       "      <td>179.000000</td>\n",
       "      <td>179.000000</td>\n",
       "      <td>179.000000</td>\n",
       "      <td>179.000000</td>\n",
       "      <td>179.000000</td>\n",
       "      <td>179.000000</td>\n",
       "      <td>179.000000</td>\n",
       "      <td>179.000000</td>\n",
       "      <td>179.000000</td>\n",
       "      <td>179.000000</td>\n",
       "      <td>179.000000</td>\n",
       "      <td>179.000000</td>\n",
       "      <td>179.000000</td>\n",
       "    </tr>\n",
       "    <tr>\n",
       "      <th>mean</th>\n",
       "      <td>0.026033</td>\n",
       "      <td>0.033041</td>\n",
       "      <td>0.018118</td>\n",
       "      <td>0.018946</td>\n",
       "      <td>0.471815</td>\n",
       "      <td>0.193796</td>\n",
       "      <td>0.157980</td>\n",
       "      <td>0.780875</td>\n",
       "      <td>0.200842</td>\n",
       "      <td>0.225414</td>\n",
       "      <td>0.087625</td>\n",
       "      <td>0.723387</td>\n",
       "      <td>0.369646</td>\n",
       "      <td>0.363202</td>\n",
       "      <td>0.261389</td>\n",
       "      <td>0.204038</td>\n",
       "      <td>0.302515</td>\n",
       "      <td>0.552139</td>\n",
       "    </tr>\n",
       "    <tr>\n",
       "      <th>std</th>\n",
       "      <td>0.100279</td>\n",
       "      <td>0.081736</td>\n",
       "      <td>0.084771</td>\n",
       "      <td>0.084967</td>\n",
       "      <td>0.107860</td>\n",
       "      <td>0.187152</td>\n",
       "      <td>0.176632</td>\n",
       "      <td>0.240747</td>\n",
       "      <td>0.202938</td>\n",
       "      <td>0.211760</td>\n",
       "      <td>0.159636</td>\n",
       "      <td>0.241544</td>\n",
       "      <td>0.232537</td>\n",
       "      <td>0.259834</td>\n",
       "      <td>0.189803</td>\n",
       "      <td>0.196805</td>\n",
       "      <td>0.158363</td>\n",
       "      <td>0.185728</td>\n",
       "    </tr>\n",
       "    <tr>\n",
       "      <th>min</th>\n",
       "      <td>0.000005</td>\n",
       "      <td>0.000002</td>\n",
       "      <td>0.000111</td>\n",
       "      <td>0.000000</td>\n",
       "      <td>0.000000</td>\n",
       "      <td>0.000000</td>\n",
       "      <td>0.000000</td>\n",
       "      <td>0.000000</td>\n",
       "      <td>0.000000</td>\n",
       "      <td>0.000000</td>\n",
       "      <td>0.000000</td>\n",
       "      <td>0.000000</td>\n",
       "      <td>0.000000</td>\n",
       "      <td>0.000000</td>\n",
       "      <td>0.004372</td>\n",
       "      <td>0.000000</td>\n",
       "      <td>0.013544</td>\n",
       "      <td>0.000000</td>\n",
       "    </tr>\n",
       "    <tr>\n",
       "      <th>25%</th>\n",
       "      <td>0.000899</td>\n",
       "      <td>0.001166</td>\n",
       "      <td>0.001647</td>\n",
       "      <td>0.000103</td>\n",
       "      <td>0.446652</td>\n",
       "      <td>0.040762</td>\n",
       "      <td>0.023810</td>\n",
       "      <td>0.635316</td>\n",
       "      <td>0.025980</td>\n",
       "      <td>0.059169</td>\n",
       "      <td>0.004538</td>\n",
       "      <td>0.592395</td>\n",
       "      <td>0.333333</td>\n",
       "      <td>0.151934</td>\n",
       "      <td>0.127687</td>\n",
       "      <td>0.050715</td>\n",
       "      <td>0.199774</td>\n",
       "      <td>0.406390</td>\n",
       "    </tr>\n",
       "    <tr>\n",
       "      <th>50%</th>\n",
       "      <td>0.005277</td>\n",
       "      <td>0.006939</td>\n",
       "      <td>0.004111</td>\n",
       "      <td>0.000724</td>\n",
       "      <td>0.476504</td>\n",
       "      <td>0.116570</td>\n",
       "      <td>0.084249</td>\n",
       "      <td>0.889563</td>\n",
       "      <td>0.132219</td>\n",
       "      <td>0.169538</td>\n",
       "      <td>0.020324</td>\n",
       "      <td>0.791060</td>\n",
       "      <td>0.333333</td>\n",
       "      <td>0.303177</td>\n",
       "      <td>0.202186</td>\n",
       "      <td>0.131339</td>\n",
       "      <td>0.286682</td>\n",
       "      <td>0.557175</td>\n",
       "    </tr>\n",
       "    <tr>\n",
       "      <th>75%</th>\n",
       "      <td>0.015870</td>\n",
       "      <td>0.029074</td>\n",
       "      <td>0.010122</td>\n",
       "      <td>0.006151</td>\n",
       "      <td>0.485471</td>\n",
       "      <td>0.329884</td>\n",
       "      <td>0.228022</td>\n",
       "      <td>0.973301</td>\n",
       "      <td>0.323353</td>\n",
       "      <td>0.322009</td>\n",
       "      <td>0.090766</td>\n",
       "      <td>0.922154</td>\n",
       "      <td>0.500000</td>\n",
       "      <td>0.576082</td>\n",
       "      <td>0.341348</td>\n",
       "      <td>0.302991</td>\n",
       "      <td>0.371332</td>\n",
       "      <td>0.679933</td>\n",
       "    </tr>\n",
       "    <tr>\n",
       "      <th>max</th>\n",
       "      <td>1.000000</td>\n",
       "      <td>0.564059</td>\n",
       "      <td>0.994561</td>\n",
       "      <td>1.000000</td>\n",
       "      <td>1.000000</td>\n",
       "      <td>0.851138</td>\n",
       "      <td>0.683150</td>\n",
       "      <td>1.000000</td>\n",
       "      <td>0.867105</td>\n",
       "      <td>1.000000</td>\n",
       "      <td>0.966062</td>\n",
       "      <td>1.000000</td>\n",
       "      <td>1.000000</td>\n",
       "      <td>1.000000</td>\n",
       "      <td>1.000000</td>\n",
       "      <td>1.000000</td>\n",
       "      <td>1.000000</td>\n",
       "      <td>1.000000</td>\n",
       "    </tr>\n",
       "  </tbody>\n",
       "</table>\n",
       "</div>"
      ],
      "text/plain": [
       "       Population  Area (sq. mi.)  Pop. Density (per sq. mi.)  \\\n",
       "count  179.000000      179.000000                  179.000000   \n",
       "mean     0.026033        0.033041                    0.018118   \n",
       "std      0.100279        0.081736                    0.084771   \n",
       "min      0.000005        0.000002                    0.000111   \n",
       "25%      0.000899        0.001166                    0.001647   \n",
       "50%      0.005277        0.006939                    0.004111   \n",
       "75%      0.015870        0.029074                    0.010122   \n",
       "max      1.000000        0.564059                    0.994561   \n",
       "\n",
       "       Coastline (coast/area ratio)  Net migration  \\\n",
       "count                    179.000000     179.000000   \n",
       "mean                       0.018946       0.471815   \n",
       "std                        0.084967       0.107860   \n",
       "min                        0.000000       0.000000   \n",
       "25%                        0.000103       0.446652   \n",
       "50%                        0.000724       0.476504   \n",
       "75%                        0.006151       0.485471   \n",
       "max                        1.000000       1.000000   \n",
       "\n",
       "       Infant mortality (per 1000 births)  GDP ($ per capita)  Literacy (%)  \\\n",
       "count                          179.000000          179.000000    179.000000   \n",
       "mean                             0.193796            0.157980      0.780875   \n",
       "std                              0.187152            0.176632      0.240747   \n",
       "min                              0.000000            0.000000      0.000000   \n",
       "25%                              0.040762            0.023810      0.635316   \n",
       "50%                              0.116570            0.084249      0.889563   \n",
       "75%                              0.329884            0.228022      0.973301   \n",
       "max                              0.851138            0.683150      1.000000   \n",
       "\n",
       "       Phones (per 1000)  Arable (%)   Crops (%)   Other (%)     Climate  \\\n",
       "count         179.000000  179.000000  179.000000  179.000000  179.000000   \n",
       "mean            0.200842    0.225414    0.087625    0.723387    0.369646   \n",
       "std             0.202938    0.211760    0.159636    0.241544    0.232537   \n",
       "min             0.000000    0.000000    0.000000    0.000000    0.000000   \n",
       "25%             0.025980    0.059169    0.004538    0.592395    0.333333   \n",
       "50%             0.132219    0.169538    0.020324    0.791060    0.333333   \n",
       "75%             0.323353    0.322009    0.090766    0.922154    0.500000   \n",
       "max             0.867105    1.000000    0.966062    1.000000    1.000000   \n",
       "\n",
       "        Birthrate   Deathrate  Agriculture    Industry     Service  \n",
       "count  179.000000  179.000000   179.000000  179.000000  179.000000  \n",
       "mean     0.363202    0.261389     0.204038    0.302515    0.552139  \n",
       "std      0.259834    0.189803     0.196805    0.158363    0.185728  \n",
       "min      0.000000    0.004372     0.000000    0.013544    0.000000  \n",
       "25%      0.151934    0.127687     0.050715    0.199774    0.406390  \n",
       "50%      0.303177    0.202186     0.131339    0.286682    0.557175  \n",
       "75%      0.576082    0.341348     0.302991    0.371332    0.679933  \n",
       "max      1.000000    1.000000     1.000000    1.000000    1.000000  "
      ]
     },
     "execution_count": 98,
     "metadata": {},
     "output_type": "execute_result"
    }
   ],
   "source": [
    "transformed_df.describe()"
   ]
  },
  {
   "cell_type": "markdown",
   "metadata": {},
   "source": [
    "## 4) Encontrar el número óptimo de clusters\n",
    "\n",
    "Decide razonadamente el número óptimo de clusters en el rango 2..10. Ten en cuenta que para interpretar los datos no nos interesa tampoco tener un número excesivo de clusters. Para hacerlo calcula y pinta el diagrama del codo, el índice davies_boulding y el coeficiente silhouette en función del número de clusters."
   ]
  },
  {
   "cell_type": "code",
   "execution_count": 99,
   "metadata": {},
   "outputs": [],
   "source": [
    "import numpy as np\n",
    "import matplotlib as mpl\n",
    "import matplotlib.pyplot as plt\n",
    "from matplotlib.colors import ListedColormap\n",
    "\n",
    "def plot_clusters(X, labels=None, centers=None):\n",
    "    \"\"\" Función auxiliar para pintar los puntos de los clusters y, optativamente, sus centros.\n",
    "    :param X: array de puntos de dos dimensiones (array de array de enteros)\n",
    "    :param labels: cluster al que pertenece cada punto (array de enteros)\n",
    "    :param centers: coordenadas de los centroides de los clusters (array de array de enteros)\n",
    "    \"\"\"\n",
    "    \n",
    "    colors = ['r','g','b','c','y','k','m',]\n",
    "    fig = plt.figure(figsize=(8,8))\n",
    "    \n",
    "    # Los dos primeros parámetros de la función scatter son las coordenadas de los puntos,\n",
    "    # el parámetro 'c' indica la clase asignada de cada punto, y 'cmap' se usa para colorear \n",
    "    # las distintas clases\n",
    "    plt.scatter(X[:,0], X[:,1], c=labels, cmap=ListedColormap(colors))\n",
    "    \n",
    "    # Pintar los centroides de los clusters\n",
    "    if centers is not None:\n",
    "        plt.scatter(centers[:,0], centers[:,1], marker=\"x\", color='k', s=150, linewidths = 5, zorder=10)\n",
    "        \n",
    "    plt.show()"
   ]
  },
  {
   "cell_type": "code",
   "execution_count": 100,
   "metadata": {},
   "outputs": [],
   "source": [
    "from sklearn.metrics import davies_bouldin_score, silhouette_score\n",
    "from sklearn.cluster import KMeans\n",
    "\n",
    "RANDOM_STATE=333\n",
    "K_MAX = 10\n",
    "score = np.zeros(K_MAX-2)\n",
    "davies_boulding = np.zeros(K_MAX-2)\n",
    "silhouette = np.zeros(K_MAX-2)\n",
    "for k in range(2, K_MAX): \n",
    "    km = KMeans(init='random', n_clusters=k, random_state=RANDOM_STATE)\n",
    "    km.fit(transformed_df)\n",
    "    #plot_clusters(transformed_df, km.labels_, km.cluster_centers_)\n",
    "    \n",
    "    score[k-2] = -1 * km.score(transformed_df)\n",
    "    davies_boulding[k-2] = davies_bouldin_score(transformed_df, km.labels_)\n",
    "    silhouette[k-2] = silhouette_score(transformed_df, km.labels_)"
   ]
  },
  {
   "cell_type": "code",
   "execution_count": 101,
   "metadata": {},
   "outputs": [
    {
     "data": {
      "image/png": "[encoded data removed]",
      "text/plain": [
       "<Figure size 432x288 with 1 Axes>"
      ]
     },
     "metadata": {
      "needs_background": "light"
     },
     "output_type": "display_data"
    }
   ],
   "source": [
    "# diagrama del codo\n",
    "plt.plot(range(2, K_MAX), score)\n",
    "plt.xlabel('Number of Clusters')\n",
    "plt.ylabel('Score')\n",
    "plt.title('Elbow Curve')\n",
    "plt.show()\n",
    "#En el diagrama del codo buscamos un valor de K en el que la curva deja de descender tan rápidamente. En este caso podemos ver que K=3 es una buena elección"
   ]
  },
  {
   "cell_type": "markdown",
   "metadata": {},
   "source": [
    "A partir de la curva obtenida podemos ver cómo a medida que se aumenta la cantidad de centroides, el valor de WCSS disminuye de tal forma que la gráfica adopta una forma de codo. Para seleccionar el valor óptimo de k, se escoje entonces ese punto en donde ya no se dejan de producir variaciones importantes del valor de WCSS al aumentar k. En este caso, vemos que no se produce un codo tan claro, y la curva va a avanzando de forma progresiva lo que provoca que nos proporciona una solucion calra del numero de clusters. Por lo que nos fijerames en las siguientes graficas para determinar la solucion."
   ]
  },
  {
   "cell_type": "code",
   "execution_count": 102,
   "metadata": {},
   "outputs": [
    {
     "data": {
      "image/png": "[encoded data removed]",
      "text/plain": [
       "<Figure size 432x288 with 1 Axes>"
      ]
     },
     "metadata": {
      "needs_background": "light"
     },
     "output_type": "display_data"
    }
   ],
   "source": [
    "# davies boulding\n",
    "plt.plot(range(2, K_MAX), davies_boulding)\n",
    "plt.xlabel('Number of Clusters')\n",
    "plt.ylabel('Davies Boulding value')\n",
    "plt.title('Valor de Davies Boulding para diferentes k')\n",
    "plt.show()\n",
    "#El mejor valor de Davies–Bouldin (el más pequeño) se obtiene también para K = 3."
   ]
  },
  {
   "cell_type": "markdown",
   "metadata": {},
   "source": [
    "davies_boulding: razón entre las distancias intra-cluster y las distancias inter-cluster. Es decir, el índice tendrá un valor más pequeño cuando más compactos y separados estén los clusters.\n",
    "\n",
    "El mejor valor de Davies–Bouldin (el más pequeño) se obtiene también para K = 2\n",
    ", y el siguiente seria para K=4."
   ]
  },
  {
   "cell_type": "code",
   "execution_count": 103,
   "metadata": {},
   "outputs": [
    {
     "data": {
      "image/png": "[encoded data removed]",
      "text/plain": [
       "<Figure size 432x288 with 1 Axes>"
      ]
     },
     "metadata": {
      "needs_background": "light"
     },
     "output_type": "display_data"
    }
   ],
   "source": [
    "# silhouette\n",
    "plt.plot(range(2, K_MAX), silhouette)\n",
    "plt.xlabel('Number of Clusters')\n",
    "plt.ylabel('Silhouette value')\n",
    "plt.title('Valor de Silhouette para diferentes k')\n",
    "plt.show()\n",
    "#El mejor valor de Silhouette (el más cercano a 1) se obtiene también para K=3."
   ]
  },
  {
   "cell_type": "markdown",
   "metadata": {},
   "source": [
    "silhouette: distancia media al cluster más cercano menos distancia media intra-cluster dividido entre el mayor de ambos. El índice tendrá un valor más grande cuanto mejor sea la agrupación.\n",
    "\n",
    "El mejor valor de Davies–Bouldin (el más pequeño) se obtiene también para K = 2, y despues para k=4."
   ]
  },
  {
   "cell_type": "markdown",
   "metadata": {},
   "source": [
    "En este caso la metrica del codo no sirve para determinar claramente el numero de cluster necesarios, por lo que pasaremos a analizar Davies–Bouldin y Silhouette. Estas dos graficas nos dan el mismo resultado mejor solcuion con k = 2, y el siguiente valor con k=4. Nosotros nos quedaremos con K=2 ya en las graficas seria el mejor valor, y en el enunciado nos dicen \"Ten en cuenta que para interpretar los datos no nos interesa tampoco tener un número excesivo de clusters\", lo que nos decide por escoger 2. "
   ]
  },
  {
   "cell_type": "markdown",
   "metadata": {},
   "source": [
    "## 5) Descripción de los clusters\n",
    "\n",
    "Describe los clusters que has obtenido en el apartado anterior y trata identificar el grupo de países que contienen. Si te han salido más de 3 elige 3 de ellos que sean bastante diferentes entre sí. \n",
    "\n",
    "Para hacerlo estudia sus descriptores estadísticos y pinta el diagrama de dispersión en función de cada par de variables usando colores diferentes para cada cluster. ¿Qué clusters se separan mejor y en función de qué variables? ¿y cuáles se confunden más?\n",
    "\n",
    "__Cuidado__: para poder interpretar correctamente los datos necesitas que estén en su escala original. Si decidiste escalar los datos, deberás ejecutar kMeans con los datos escalados pero asignar las etiquetas de clusters al conjunto de datos inicial. En este caso es muy sencillo porque el algoritmo no cambia el orden de los datos así que puedes crear directamente una nueva columna en el dataframe original con esas etiquetas. Puede que aparezca un SettingWithCopyWarning por asignar una nueva columna en un dataframe que es una vista de otro dataframe. Puedes ignorar este aviso o puedes hacer una copia del dataframe con `copy` para que no comparta memoria con el otro."
   ]
  },
  {
   "cell_type": "markdown",
   "metadata": {},
   "source": [
    "En primer lugar, podemos ver fácilmente los centroides elegidos, es decir, el valor que toman las variables en el individuo prototípico de cada cluster.\n",
    "\n",
    "Elegiremos los 2 clusters diferentes entre si, fijandonos en las grafica con el numero de clusters que hemos realizado arriba"
   ]
  },
  {
   "cell_type": "code",
   "execution_count": 104,
   "metadata": {},
   "outputs": [
    {
     "data": {
      "text/plain": [
       "array([[0.0328444 , 0.03477443, 0.02598081, 0.0280048 , 0.47054327,\n",
       "        0.07060529, 0.23639816, 0.91874499, 0.3100579 , 0.24970642,\n",
       "        0.10133198, 0.6903453 , 0.45412844, 0.19446204, 0.18003041,\n",
       "        0.10664392, 0.30548595, 0.63270868],\n",
       "       [0.0154279 , 0.0303417 , 0.00587416, 0.00483919, 0.47379601,\n",
       "        0.38562278, 0.03587127, 0.56619279, 0.03077762, 0.18758654,\n",
       "        0.06628143, 0.77483769, 0.23809524, 0.6259537 , 0.38807702,\n",
       "        0.35569385, 0.29788778, 0.42668161]])"
      ]
     },
     "execution_count": 104,
     "metadata": {},
     "output_type": "execute_result"
    }
   ],
   "source": [
    "km = KMeans(init='random', n_clusters=2, random_state=RANDOM_STATE)\n",
    "km.fit(transformed_df)\n",
    "\n",
    "centers = km.cluster_centers_\n",
    "centers"
   ]
  },
  {
   "cell_type": "markdown",
   "metadata": {},
   "source": [
    "Podemos segmentar los individuos de nuestro conjunto de datos según al cluster al que pertenezcan y utilizar estadísticos descriptivos para ver la distribución de las variables (centralidad, dispersión, rangos, etc).\n",
    "\n",
    "Para ello crearemos un dataframe y le añadiremos la columna de los clusters"
   ]
  },
  {
   "cell_type": "code",
   "execution_count": 105,
   "metadata": {},
   "outputs": [
    {
     "data": {
      "text/html": [
       "<div>\n",
       "<style scoped>\n",
       "    .dataframe tbody tr th:only-of-type {\n",
       "        vertical-align: middle;\n",
       "    }\n",
       "\n",
       "    .dataframe tbody tr th {\n",
       "        vertical-align: top;\n",
       "    }\n",
       "\n",
       "    .dataframe thead th {\n",
       "        text-align: right;\n",
       "    }\n",
       "</style>\n",
       "<table border=\"1\" class=\"dataframe\">\n",
       "  <thead>\n",
       "    <tr style=\"text-align: right;\">\n",
       "      <th></th>\n",
       "      <th>Population</th>\n",
       "      <th>Area (sq. mi.)</th>\n",
       "      <th>Pop. Density (per sq. mi.)</th>\n",
       "      <th>Coastline (coast/area ratio)</th>\n",
       "      <th>Net migration</th>\n",
       "      <th>Infant mortality (per 1000 births)</th>\n",
       "      <th>GDP ($ per capita)</th>\n",
       "      <th>Literacy (%)</th>\n",
       "      <th>Phones (per 1000)</th>\n",
       "      <th>Arable (%)</th>\n",
       "      <th>Crops (%)</th>\n",
       "      <th>Other (%)</th>\n",
       "      <th>Climate</th>\n",
       "      <th>Birthrate</th>\n",
       "      <th>Deathrate</th>\n",
       "      <th>Agriculture</th>\n",
       "      <th>Industry</th>\n",
       "      <th>Service</th>\n",
       "    </tr>\n",
       "  </thead>\n",
       "  <tbody>\n",
       "    <tr>\n",
       "      <th>count</th>\n",
       "      <td>179.000000</td>\n",
       "      <td>179.000000</td>\n",
       "      <td>179.000000</td>\n",
       "      <td>179.000000</td>\n",
       "      <td>179.000000</td>\n",
       "      <td>179.000000</td>\n",
       "      <td>179.000000</td>\n",
       "      <td>179.000000</td>\n",
       "      <td>179.000000</td>\n",
       "      <td>179.000000</td>\n",
       "      <td>179.000000</td>\n",
       "      <td>179.000000</td>\n",
       "      <td>179.000000</td>\n",
       "      <td>179.000000</td>\n",
       "      <td>179.000000</td>\n",
       "      <td>179.000000</td>\n",
       "      <td>179.000000</td>\n",
       "      <td>179.000000</td>\n",
       "    </tr>\n",
       "    <tr>\n",
       "      <th>mean</th>\n",
       "      <td>0.026033</td>\n",
       "      <td>0.033041</td>\n",
       "      <td>0.018118</td>\n",
       "      <td>0.018946</td>\n",
       "      <td>0.471815</td>\n",
       "      <td>0.193796</td>\n",
       "      <td>0.157980</td>\n",
       "      <td>0.780875</td>\n",
       "      <td>0.200842</td>\n",
       "      <td>0.225414</td>\n",
       "      <td>0.087625</td>\n",
       "      <td>0.723387</td>\n",
       "      <td>0.369646</td>\n",
       "      <td>0.363202</td>\n",
       "      <td>0.261389</td>\n",
       "      <td>0.204038</td>\n",
       "      <td>0.302515</td>\n",
       "      <td>0.552139</td>\n",
       "    </tr>\n",
       "    <tr>\n",
       "      <th>std</th>\n",
       "      <td>0.100279</td>\n",
       "      <td>0.081736</td>\n",
       "      <td>0.084771</td>\n",
       "      <td>0.084967</td>\n",
       "      <td>0.107860</td>\n",
       "      <td>0.187152</td>\n",
       "      <td>0.176632</td>\n",
       "      <td>0.240747</td>\n",
       "      <td>0.202938</td>\n",
       "      <td>0.211760</td>\n",
       "      <td>0.159636</td>\n",
       "      <td>0.241544</td>\n",
       "      <td>0.232537</td>\n",
       "      <td>0.259834</td>\n",
       "      <td>0.189803</td>\n",
       "      <td>0.196805</td>\n",
       "      <td>0.158363</td>\n",
       "      <td>0.185728</td>\n",
       "    </tr>\n",
       "    <tr>\n",
       "      <th>min</th>\n",
       "      <td>0.000005</td>\n",
       "      <td>0.000002</td>\n",
       "      <td>0.000111</td>\n",
       "      <td>0.000000</td>\n",
       "      <td>0.000000</td>\n",
       "      <td>0.000000</td>\n",
       "      <td>0.000000</td>\n",
       "      <td>0.000000</td>\n",
       "      <td>0.000000</td>\n",
       "      <td>0.000000</td>\n",
       "      <td>0.000000</td>\n",
       "      <td>0.000000</td>\n",
       "      <td>0.000000</td>\n",
       "      <td>0.000000</td>\n",
       "      <td>0.004372</td>\n",
       "      <td>0.000000</td>\n",
       "      <td>0.013544</td>\n",
       "      <td>0.000000</td>\n",
       "    </tr>\n",
       "    <tr>\n",
       "      <th>25%</th>\n",
       "      <td>0.000899</td>\n",
       "      <td>0.001166</td>\n",
       "      <td>0.001647</td>\n",
       "      <td>0.000103</td>\n",
       "      <td>0.446652</td>\n",
       "      <td>0.040762</td>\n",
       "      <td>0.023810</td>\n",
       "      <td>0.635316</td>\n",
       "      <td>0.025980</td>\n",
       "      <td>0.059169</td>\n",
       "      <td>0.004538</td>\n",
       "      <td>0.592395</td>\n",
       "      <td>0.333333</td>\n",
       "      <td>0.151934</td>\n",
       "      <td>0.127687</td>\n",
       "      <td>0.050715</td>\n",
       "      <td>0.199774</td>\n",
       "      <td>0.406390</td>\n",
       "    </tr>\n",
       "    <tr>\n",
       "      <th>50%</th>\n",
       "      <td>0.005277</td>\n",
       "      <td>0.006939</td>\n",
       "      <td>0.004111</td>\n",
       "      <td>0.000724</td>\n",
       "      <td>0.476504</td>\n",
       "      <td>0.116570</td>\n",
       "      <td>0.084249</td>\n",
       "      <td>0.889563</td>\n",
       "      <td>0.132219</td>\n",
       "      <td>0.169538</td>\n",
       "      <td>0.020324</td>\n",
       "      <td>0.791060</td>\n",
       "      <td>0.333333</td>\n",
       "      <td>0.303177</td>\n",
       "      <td>0.202186</td>\n",
       "      <td>0.131339</td>\n",
       "      <td>0.286682</td>\n",
       "      <td>0.557175</td>\n",
       "    </tr>\n",
       "    <tr>\n",
       "      <th>75%</th>\n",
       "      <td>0.015870</td>\n",
       "      <td>0.029074</td>\n",
       "      <td>0.010122</td>\n",
       "      <td>0.006151</td>\n",
       "      <td>0.485471</td>\n",
       "      <td>0.329884</td>\n",
       "      <td>0.228022</td>\n",
       "      <td>0.973301</td>\n",
       "      <td>0.323353</td>\n",
       "      <td>0.322009</td>\n",
       "      <td>0.090766</td>\n",
       "      <td>0.922154</td>\n",
       "      <td>0.500000</td>\n",
       "      <td>0.576082</td>\n",
       "      <td>0.341348</td>\n",
       "      <td>0.302991</td>\n",
       "      <td>0.371332</td>\n",
       "      <td>0.679933</td>\n",
       "    </tr>\n",
       "    <tr>\n",
       "      <th>max</th>\n",
       "      <td>1.000000</td>\n",
       "      <td>0.564059</td>\n",
       "      <td>0.994561</td>\n",
       "      <td>1.000000</td>\n",
       "      <td>1.000000</td>\n",
       "      <td>0.851138</td>\n",
       "      <td>0.683150</td>\n",
       "      <td>1.000000</td>\n",
       "      <td>0.867105</td>\n",
       "      <td>1.000000</td>\n",
       "      <td>0.966062</td>\n",
       "      <td>1.000000</td>\n",
       "      <td>1.000000</td>\n",
       "      <td>1.000000</td>\n",
       "      <td>1.000000</td>\n",
       "      <td>1.000000</td>\n",
       "      <td>1.000000</td>\n",
       "      <td>1.000000</td>\n",
       "    </tr>\n",
       "  </tbody>\n",
       "</table>\n",
       "</div>"
      ],
      "text/plain": [
       "       Population  Area (sq. mi.)  Pop. Density (per sq. mi.)  \\\n",
       "count  179.000000      179.000000                  179.000000   \n",
       "mean     0.026033        0.033041                    0.018118   \n",
       "std      0.100279        0.081736                    0.084771   \n",
       "min      0.000005        0.000002                    0.000111   \n",
       "25%      0.000899        0.001166                    0.001647   \n",
       "50%      0.005277        0.006939                    0.004111   \n",
       "75%      0.015870        0.029074                    0.010122   \n",
       "max      1.000000        0.564059                    0.994561   \n",
       "\n",
       "       Coastline (coast/area ratio)  Net migration  \\\n",
       "count                    179.000000     179.000000   \n",
       "mean                       0.018946       0.471815   \n",
       "std                        0.084967       0.107860   \n",
       "min                        0.000000       0.000000   \n",
       "25%                        0.000103       0.446652   \n",
       "50%                        0.000724       0.476504   \n",
       "75%                        0.006151       0.485471   \n",
       "max                        1.000000       1.000000   \n",
       "\n",
       "       Infant mortality (per 1000 births)  GDP ($ per capita)  Literacy (%)  \\\n",
       "count                          179.000000          179.000000    179.000000   \n",
       "mean                             0.193796            0.157980      0.780875   \n",
       "std                              0.187152            0.176632      0.240747   \n",
       "min                              0.000000            0.000000      0.000000   \n",
       "25%                              0.040762            0.023810      0.635316   \n",
       "50%                              0.116570            0.084249      0.889563   \n",
       "75%                              0.329884            0.228022      0.973301   \n",
       "max                              0.851138            0.683150      1.000000   \n",
       "\n",
       "       Phones (per 1000)  Arable (%)   Crops (%)   Other (%)     Climate  \\\n",
       "count         179.000000  179.000000  179.000000  179.000000  179.000000   \n",
       "mean            0.200842    0.225414    0.087625    0.723387    0.369646   \n",
       "std             0.202938    0.211760    0.159636    0.241544    0.232537   \n",
       "min             0.000000    0.000000    0.000000    0.000000    0.000000   \n",
       "25%             0.025980    0.059169    0.004538    0.592395    0.333333   \n",
       "50%             0.132219    0.169538    0.020324    0.791060    0.333333   \n",
       "75%             0.323353    0.322009    0.090766    0.922154    0.500000   \n",
       "max             0.867105    1.000000    0.966062    1.000000    1.000000   \n",
       "\n",
       "        Birthrate   Deathrate  Agriculture    Industry     Service  \n",
       "count  179.000000  179.000000   179.000000  179.000000  179.000000  \n",
       "mean     0.363202    0.261389     0.204038    0.302515    0.552139  \n",
       "std      0.259834    0.189803     0.196805    0.158363    0.185728  \n",
       "min      0.000000    0.004372     0.000000    0.013544    0.000000  \n",
       "25%      0.151934    0.127687     0.050715    0.199774    0.406390  \n",
       "50%      0.303177    0.202186     0.131339    0.286682    0.557175  \n",
       "75%      0.576082    0.341348     0.302991    0.371332    0.679933  \n",
       "max      1.000000    1.000000     1.000000    1.000000    1.000000  "
      ]
     },
     "execution_count": 105,
     "metadata": {},
     "output_type": "execute_result"
    }
   ],
   "source": [
    "#estudiamos sus descriptores estadísticos\n",
    "transformed_df.describe()"
   ]
  },
  {
   "cell_type": "code",
   "execution_count": 106,
   "metadata": {},
   "outputs": [
    {
     "data": {
      "text/html": [
       "<div>\n",
       "<style scoped>\n",
       "    .dataframe tbody tr th:only-of-type {\n",
       "        vertical-align: middle;\n",
       "    }\n",
       "\n",
       "    .dataframe tbody tr th {\n",
       "        vertical-align: top;\n",
       "    }\n",
       "\n",
       "    .dataframe thead th {\n",
       "        text-align: right;\n",
       "    }\n",
       "</style>\n",
       "<table border=\"1\" class=\"dataframe\">\n",
       "  <thead>\n",
       "    <tr style=\"text-align: right;\">\n",
       "      <th></th>\n",
       "      <th>Population</th>\n",
       "      <th>Area (sq. mi.)</th>\n",
       "      <th>Pop. Density (per sq. mi.)</th>\n",
       "      <th>Coastline (coast/area ratio)</th>\n",
       "      <th>Net migration</th>\n",
       "      <th>Infant mortality (per 1000 births)</th>\n",
       "      <th>GDP ($ per capita)</th>\n",
       "      <th>Literacy (%)</th>\n",
       "      <th>Phones (per 1000)</th>\n",
       "      <th>Arable (%)</th>\n",
       "      <th>Crops (%)</th>\n",
       "      <th>Other (%)</th>\n",
       "      <th>Climate</th>\n",
       "      <th>Birthrate</th>\n",
       "      <th>Deathrate</th>\n",
       "      <th>Agriculture</th>\n",
       "      <th>Industry</th>\n",
       "      <th>Service</th>\n",
       "      <th>cluster</th>\n",
       "    </tr>\n",
       "  </thead>\n",
       "  <tbody>\n",
       "    <tr>\n",
       "      <th>0</th>\n",
       "      <td>0.023631</td>\n",
       "      <td>0.037920</td>\n",
       "      <td>0.002950</td>\n",
       "      <td>0.000000</td>\n",
       "      <td>1.000000</td>\n",
       "      <td>0.851138</td>\n",
       "      <td>0.003663</td>\n",
       "      <td>0.223301</td>\n",
       "      <td>0.002897</td>\n",
       "      <td>0.195299</td>\n",
       "      <td>0.004341</td>\n",
       "      <td>0.814759</td>\n",
       "      <td>0.000000</td>\n",
       "      <td>0.904926</td>\n",
       "      <td>0.657559</td>\n",
       "      <td>0.494148</td>\n",
       "      <td>0.248307</td>\n",
       "      <td>0.356502</td>\n",
       "      <td>1.0</td>\n",
       "    </tr>\n",
       "    <tr>\n",
       "      <th>1</th>\n",
       "      <td>0.002720</td>\n",
       "      <td>0.001683</td>\n",
       "      <td>0.007658</td>\n",
       "      <td>0.001447</td>\n",
       "      <td>0.364586</td>\n",
       "      <td>0.101800</td>\n",
       "      <td>0.073260</td>\n",
       "      <td>0.836165</td>\n",
       "      <td>0.068573</td>\n",
       "      <td>0.339559</td>\n",
       "      <td>0.087214</td>\n",
       "      <td>0.617369</td>\n",
       "      <td>0.666667</td>\n",
       "      <td>0.180018</td>\n",
       "      <td>0.106740</td>\n",
       "      <td>0.301691</td>\n",
       "      <td>0.189616</td>\n",
       "      <td>0.579596</td>\n",
       "      <td>0.0</td>\n",
       "    </tr>\n",
       "    <tr>\n",
       "      <th>2</th>\n",
       "      <td>0.025056</td>\n",
       "      <td>0.139485</td>\n",
       "      <td>0.000848</td>\n",
       "      <td>0.000046</td>\n",
       "      <td>0.467650</td>\n",
       "      <td>0.151985</td>\n",
       "      <td>0.100733</td>\n",
       "      <td>0.635922</td>\n",
       "      <td>0.075237</td>\n",
       "      <td>0.051844</td>\n",
       "      <td>0.004933</td>\n",
       "      <td>0.947953</td>\n",
       "      <td>0.000000</td>\n",
       "      <td>0.226750</td>\n",
       "      <td>0.084517</td>\n",
       "      <td>0.131339</td>\n",
       "      <td>0.654628</td>\n",
       "      <td>0.264574</td>\n",
       "      <td>1.0</td>\n",
       "    </tr>\n",
       "    <tr>\n",
       "      <th>6</th>\n",
       "      <td>0.000005</td>\n",
       "      <td>0.000006</td>\n",
       "      <td>0.008118</td>\n",
       "      <td>0.068684</td>\n",
       "      <td>0.720772</td>\n",
       "      <td>0.099206</td>\n",
       "      <td>0.148352</td>\n",
       "      <td>0.939320</td>\n",
       "      <td>0.444080</td>\n",
       "      <td>0.000000</td>\n",
       "      <td>0.000000</td>\n",
       "      <td>1.000000</td>\n",
       "      <td>0.333333</td>\n",
       "      <td>0.158379</td>\n",
       "      <td>0.111111</td>\n",
       "      <td>0.052016</td>\n",
       "      <td>0.180587</td>\n",
       "      <td>0.804933</td>\n",
       "      <td>0.0</td>\n",
       "    </tr>\n",
       "    <tr>\n",
       "      <th>7</th>\n",
       "      <td>0.000047</td>\n",
       "      <td>0.000026</td>\n",
       "      <td>0.009587</td>\n",
       "      <td>0.039671</td>\n",
       "      <td>0.336890</td>\n",
       "      <td>0.090895</td>\n",
       "      <td>0.192308</td>\n",
       "      <td>0.866505</td>\n",
       "      <td>0.530906</td>\n",
       "      <td>0.292706</td>\n",
       "      <td>0.089779</td>\n",
       "      <td>0.659067</td>\n",
       "      <td>0.333333</td>\n",
       "      <td>0.221915</td>\n",
       "      <td>0.112204</td>\n",
       "      <td>0.049415</td>\n",
       "      <td>0.225734</td>\n",
       "      <td>0.763453</td>\n",
       "      <td>0.0</td>\n",
       "    </tr>\n",
       "    <tr>\n",
       "      <th>...</th>\n",
       "      <td>...</td>\n",
       "      <td>...</td>\n",
       "      <td>...</td>\n",
       "      <td>...</td>\n",
       "      <td>...</td>\n",
       "      <td>...</td>\n",
       "      <td>...</td>\n",
       "      <td>...</td>\n",
       "      <td>...</td>\n",
       "      <td>...</td>\n",
       "      <td>...</td>\n",
       "      <td>...</td>\n",
       "      <td>...</td>\n",
       "      <td>...</td>\n",
       "      <td>...</td>\n",
       "      <td>...</td>\n",
       "      <td>...</td>\n",
       "      <td>...</td>\n",
       "      <td>...</td>\n",
       "    </tr>\n",
       "    <tr>\n",
       "      <th>218</th>\n",
       "      <td>0.019577</td>\n",
       "      <td>0.053414</td>\n",
       "      <td>0.001733</td>\n",
       "      <td>0.000356</td>\n",
       "      <td>0.475596</td>\n",
       "      <td>0.105400</td>\n",
       "      <td>0.078755</td>\n",
       "      <td>0.919903</td>\n",
       "      <td>0.135117</td>\n",
       "      <td>0.047496</td>\n",
       "      <td>0.018153</td>\n",
       "      <td>0.941953</td>\n",
       "      <td>0.333333</td>\n",
       "      <td>0.262891</td>\n",
       "      <td>0.095811</td>\n",
       "      <td>0.052016</td>\n",
       "      <td>0.450339</td>\n",
       "      <td>0.536996</td>\n",
       "      <td>NaN</td>\n",
       "    </tr>\n",
       "    <tr>\n",
       "      <th>219</th>\n",
       "      <td>0.064230</td>\n",
       "      <td>0.019300</td>\n",
       "      <td>0.015739</td>\n",
       "      <td>0.001206</td>\n",
       "      <td>0.466288</td>\n",
       "      <td>0.125251</td>\n",
       "      <td>0.036630</td>\n",
       "      <td>0.882282</td>\n",
       "      <td>0.181089</td>\n",
       "      <td>0.321526</td>\n",
       "      <td>0.117403</td>\n",
       "      <td>0.611219</td>\n",
       "      <td>0.333333</td>\n",
       "      <td>0.220304</td>\n",
       "      <td>0.143169</td>\n",
       "      <td>0.271782</td>\n",
       "      <td>0.440181</td>\n",
       "      <td>0.357623</td>\n",
       "      <td>NaN</td>\n",
       "    </tr>\n",
       "    <tr>\n",
       "      <th>224</th>\n",
       "      <td>0.016324</td>\n",
       "      <td>0.030920</td>\n",
       "      <td>0.002495</td>\n",
       "      <td>0.000413</td>\n",
       "      <td>0.476504</td>\n",
       "      <td>0.313446</td>\n",
       "      <td>0.005495</td>\n",
       "      <td>0.395631</td>\n",
       "      <td>0.035735</td>\n",
       "      <td>0.044759</td>\n",
       "      <td>0.004736</td>\n",
       "      <td>0.954702</td>\n",
       "      <td>0.000000</td>\n",
       "      <td>0.819521</td>\n",
       "      <td>0.218944</td>\n",
       "      <td>0.175553</td>\n",
       "      <td>0.510158</td>\n",
       "      <td>0.371076</td>\n",
       "      <td>NaN</td>\n",
       "    </tr>\n",
       "    <tr>\n",
       "      <th>225</th>\n",
       "      <td>0.008748</td>\n",
       "      <td>0.044076</td>\n",
       "      <td>0.000940</td>\n",
       "      <td>0.000000</td>\n",
       "      <td>0.476504</td>\n",
       "      <td>0.455267</td>\n",
       "      <td>0.005495</td>\n",
       "      <td>0.764563</td>\n",
       "      <td>0.007726</td>\n",
       "      <td>0.113991</td>\n",
       "      <td>0.000592</td>\n",
       "      <td>0.893505</td>\n",
       "      <td>0.333333</td>\n",
       "      <td>0.776013</td>\n",
       "      <td>0.642623</td>\n",
       "      <td>0.286086</td>\n",
       "      <td>0.304740</td>\n",
       "      <td>0.478700</td>\n",
       "      <td>NaN</td>\n",
       "    </tr>\n",
       "    <tr>\n",
       "      <th>226</th>\n",
       "      <td>0.009308</td>\n",
       "      <td>0.022874</td>\n",
       "      <td>0.001924</td>\n",
       "      <td>0.000000</td>\n",
       "      <td>0.476504</td>\n",
       "      <td>0.346215</td>\n",
       "      <td>0.025641</td>\n",
       "      <td>0.887136</td>\n",
       "      <td>0.025691</td>\n",
       "      <td>0.133956</td>\n",
       "      <td>0.006709</td>\n",
       "      <td>0.870106</td>\n",
       "      <td>0.333333</td>\n",
       "      <td>0.476980</td>\n",
       "      <td>0.712204</td>\n",
       "      <td>0.232770</td>\n",
       "      <td>0.251693</td>\n",
       "      <td>0.579596</td>\n",
       "      <td>NaN</td>\n",
       "    </tr>\n",
       "  </tbody>\n",
       "</table>\n",
       "<p>179 rows × 19 columns</p>\n",
       "</div>"
      ],
      "text/plain": [
       "     Population  Area (sq. mi.)  Pop. Density (per sq. mi.)  \\\n",
       "0      0.023631        0.037920                    0.002950   \n",
       "1      0.002720        0.001683                    0.007658   \n",
       "2      0.025056        0.139485                    0.000848   \n",
       "6      0.000005        0.000006                    0.008118   \n",
       "7      0.000047        0.000026                    0.009587   \n",
       "..          ...             ...                         ...   \n",
       "218    0.019577        0.053414                    0.001733   \n",
       "219    0.064230        0.019300                    0.015739   \n",
       "224    0.016324        0.030920                    0.002495   \n",
       "225    0.008748        0.044076                    0.000940   \n",
       "226    0.009308        0.022874                    0.001924   \n",
       "\n",
       "     Coastline (coast/area ratio)  Net migration  \\\n",
       "0                        0.000000       1.000000   \n",
       "1                        0.001447       0.364586   \n",
       "2                        0.000046       0.467650   \n",
       "6                        0.068684       0.720772   \n",
       "7                        0.039671       0.336890   \n",
       "..                            ...            ...   \n",
       "218                      0.000356       0.475596   \n",
       "219                      0.001206       0.466288   \n",
       "224                      0.000413       0.476504   \n",
       "225                      0.000000       0.476504   \n",
       "226                      0.000000       0.476504   \n",
       "\n",
       "     Infant mortality (per 1000 births)  GDP ($ per capita)  Literacy (%)  \\\n",
       "0                              0.851138            0.003663      0.223301   \n",
       "1                              0.101800            0.073260      0.836165   \n",
       "2                              0.151985            0.100733      0.635922   \n",
       "6                              0.099206            0.148352      0.939320   \n",
       "7                              0.090895            0.192308      0.866505   \n",
       "..                                  ...                 ...           ...   \n",
       "218                            0.105400            0.078755      0.919903   \n",
       "219                            0.125251            0.036630      0.882282   \n",
       "224                            0.313446            0.005495      0.395631   \n",
       "225                            0.455267            0.005495      0.764563   \n",
       "226                            0.346215            0.025641      0.887136   \n",
       "\n",
       "     Phones (per 1000)  Arable (%)  Crops (%)  Other (%)   Climate  Birthrate  \\\n",
       "0             0.002897    0.195299   0.004341   0.814759  0.000000   0.904926   \n",
       "1             0.068573    0.339559   0.087214   0.617369  0.666667   0.180018   \n",
       "2             0.075237    0.051844   0.004933   0.947953  0.000000   0.226750   \n",
       "6             0.444080    0.000000   0.000000   1.000000  0.333333   0.158379   \n",
       "7             0.530906    0.292706   0.089779   0.659067  0.333333   0.221915   \n",
       "..                 ...         ...        ...        ...       ...        ...   \n",
       "218           0.135117    0.047496   0.018153   0.941953  0.333333   0.262891   \n",
       "219           0.181089    0.321526   0.117403   0.611219  0.333333   0.220304   \n",
       "224           0.035735    0.044759   0.004736   0.954702  0.000000   0.819521   \n",
       "225           0.007726    0.113991   0.000592   0.893505  0.333333   0.776013   \n",
       "226           0.025691    0.133956   0.006709   0.870106  0.333333   0.476980   \n",
       "\n",
       "     Deathrate  Agriculture  Industry   Service  cluster  \n",
       "0     0.657559     0.494148  0.248307  0.356502      1.0  \n",
       "1     0.106740     0.301691  0.189616  0.579596      0.0  \n",
       "2     0.084517     0.131339  0.654628  0.264574      1.0  \n",
       "6     0.111111     0.052016  0.180587  0.804933      0.0  \n",
       "7     0.112204     0.049415  0.225734  0.763453      0.0  \n",
       "..         ...          ...       ...       ...      ...  \n",
       "218   0.095811     0.052016  0.450339  0.536996      NaN  \n",
       "219   0.143169     0.271782  0.440181  0.357623      NaN  \n",
       "224   0.218944     0.175553  0.510158  0.371076      NaN  \n",
       "225   0.642623     0.286086  0.304740  0.478700      NaN  \n",
       "226   0.712204     0.232770  0.251693  0.579596      NaN  \n",
       "\n",
       "[179 rows x 19 columns]"
      ]
     },
     "execution_count": 106,
     "metadata": {},
     "output_type": "execute_result"
    }
   ],
   "source": [
    "import pandas as pd\n",
    "df_Analisis = pd.DataFrame(data=transformed_df, columns=['Population','Area (sq. mi.)','Pop. Density (per sq. mi.)','Coastline (coast/area ratio)','Net migration','Infant mortality (per 1000 births)','GDP ($ per capita)','Literacy (%)','Phones (per 1000)','Arable (%)','Crops (%)','Other (%)','Climate','Birthrate','Deathrate','Agriculture','Industry','Service'])\n",
    "# añadir una columna con el cluster al que pertenece cada dato\n",
    "df_Analisis = df_Analisis.assign(cluster=pd.Series(data=km.labels_))\n",
    "df_Analisis"
   ]
  },
  {
   "cell_type": "code",
   "execution_count": 107,
   "metadata": {},
   "outputs": [
    {
     "data": {
      "text/html": [
       "<div>\n",
       "<style scoped>\n",
       "    .dataframe tbody tr th:only-of-type {\n",
       "        vertical-align: middle;\n",
       "    }\n",
       "\n",
       "    .dataframe tbody tr th {\n",
       "        vertical-align: top;\n",
       "    }\n",
       "\n",
       "    .dataframe thead th {\n",
       "        text-align: right;\n",
       "    }\n",
       "</style>\n",
       "<table border=\"1\" class=\"dataframe\">\n",
       "  <thead>\n",
       "    <tr style=\"text-align: right;\">\n",
       "      <th></th>\n",
       "      <th>cluster</th>\n",
       "      <th>0.0</th>\n",
       "      <th>1.0</th>\n",
       "    </tr>\n",
       "  </thead>\n",
       "  <tbody>\n",
       "    <tr>\n",
       "      <th rowspan=\"5\" valign=\"top\">Population</th>\n",
       "      <th>count</th>\n",
       "      <td>84.000000</td>\n",
       "      <td>58.000000</td>\n",
       "    </tr>\n",
       "    <tr>\n",
       "      <th>mean</th>\n",
       "      <td>0.027225</td>\n",
       "      <td>0.027120</td>\n",
       "    </tr>\n",
       "    <tr>\n",
       "      <th>std</th>\n",
       "      <td>0.111381</td>\n",
       "      <td>0.111290</td>\n",
       "    </tr>\n",
       "    <tr>\n",
       "      <th>min</th>\n",
       "      <td>0.000005</td>\n",
       "      <td>0.000012</td>\n",
       "    </tr>\n",
       "    <tr>\n",
       "      <th>25%</th>\n",
       "      <td>0.001070</td>\n",
       "      <td>0.000231</td>\n",
       "    </tr>\n",
       "    <tr>\n",
       "      <th>...</th>\n",
       "      <th>...</th>\n",
       "      <td>...</td>\n",
       "      <td>...</td>\n",
       "    </tr>\n",
       "    <tr>\n",
       "      <th rowspan=\"5\" valign=\"top\">Service</th>\n",
       "      <th>min</th>\n",
       "      <td>0.128924</td>\n",
       "      <td>0.000000</td>\n",
       "    </tr>\n",
       "    <tr>\n",
       "      <th>25%</th>\n",
       "      <td>0.471413</td>\n",
       "      <td>0.394058</td>\n",
       "    </tr>\n",
       "    <tr>\n",
       "      <th>50%</th>\n",
       "      <td>0.583520</td>\n",
       "      <td>0.539238</td>\n",
       "    </tr>\n",
       "    <tr>\n",
       "      <th>75%</th>\n",
       "      <td>0.693946</td>\n",
       "      <td>0.688061</td>\n",
       "    </tr>\n",
       "    <tr>\n",
       "      <th>max</th>\n",
       "      <td>1.000000</td>\n",
       "      <td>0.969731</td>\n",
       "    </tr>\n",
       "  </tbody>\n",
       "</table>\n",
       "<p>144 rows × 2 columns</p>\n",
       "</div>"
      ],
      "text/plain": [
       "cluster                 0.0        1.0\n",
       "Population count  84.000000  58.000000\n",
       "           mean    0.027225   0.027120\n",
       "           std     0.111381   0.111290\n",
       "           min     0.000005   0.000012\n",
       "           25%     0.001070   0.000231\n",
       "...                     ...        ...\n",
       "Service    min     0.128924   0.000000\n",
       "           25%     0.471413   0.394058\n",
       "           50%     0.583520   0.539238\n",
       "           75%     0.693946   0.688061\n",
       "           max     1.000000   0.969731\n",
       "\n",
       "[144 rows x 2 columns]"
      ]
     },
     "execution_count": 107,
     "metadata": {},
     "output_type": "execute_result"
    }
   ],
   "source": [
    "#Podemos obtener una buena descripción de cada cluster directamente con pandas(descriptores estadisticos).\n",
    "# mostramos la matriz transpuesta para que la info salga en vertical\n",
    "df_Analisis.groupby([\"cluster\"]).describe().transpose()"
   ]
  },
  {
   "cell_type": "code",
   "execution_count": 108,
   "metadata": {},
   "outputs": [
    {
     "data": {
      "text/plain": [
       "cluster\n",
       "0.0    AxesSubplot(0.125,0.125;0.775x0.755)\n",
       "1.0    AxesSubplot(0.125,0.125;0.775x0.755)\n",
       "Name: Population, dtype: object"
      ]
     },
     "execution_count": 108,
     "metadata": {},
     "output_type": "execute_result"
    },
    {
     "data": {
      "image/png": "[encoded data removed]",
      "text/plain": [
       "<Figure size 432x288 with 1 Axes>"
      ]
     },
     "metadata": {
      "needs_background": "light"
     },
     "output_type": "display_data"
    }
   ],
   "source": [
    "#pinta el diagrama de dispersión en función de cada par de variables,\n",
    "#usando colores diferentes para cada cluster\n",
    "df_Analisis.groupby([\"cluster\"])[\"Population\"].plot.density()"
   ]
  },
  {
   "cell_type": "code",
   "execution_count": 109,
   "metadata": {},
   "outputs": [
    {
     "data": {
      "text/plain": [
       "cluster\n",
       "0.0    AxesSubplot(0.125,0.125;0.775x0.755)\n",
       "1.0    AxesSubplot(0.125,0.125;0.775x0.755)\n",
       "Name: Area (sq. mi.), dtype: object"
      ]
     },
     "execution_count": 109,
     "metadata": {},
     "output_type": "execute_result"
    },
    {
     "data": {
      "image/png": "[encoded data removed]",
      "text/plain": [
       "<Figure size 432x288 with 1 Axes>"
      ]
     },
     "metadata": {
      "needs_background": "light"
     },
     "output_type": "display_data"
    }
   ],
   "source": [
    "df_Analisis.groupby([\"cluster\"])[\"Area (sq. mi.)\"].plot.density()"
   ]
  },
  {
   "cell_type": "code",
   "execution_count": 110,
   "metadata": {},
   "outputs": [
    {
     "data": {
      "text/plain": [
       "cluster\n",
       "0.0    AxesSubplot(0.125,0.125;0.775x0.755)\n",
       "1.0    AxesSubplot(0.125,0.125;0.775x0.755)\n",
       "Name: Pop. Density (per sq. mi.), dtype: object"
      ]
     },
     "execution_count": 110,
     "metadata": {},
     "output_type": "execute_result"
    },
    {
     "data": {
      "image/png": "[encoded data removed]",
      "text/plain": [
       "<Figure size 432x288 with 1 Axes>"
      ]
     },
     "metadata": {
      "needs_background": "light"
     },
     "output_type": "display_data"
    }
   ],
   "source": [
    "df_Analisis.groupby([\"cluster\"])[\"Pop. Density (per sq. mi.)\"].plot.density()"
   ]
  },
  {
   "cell_type": "code",
   "execution_count": 111,
   "metadata": {},
   "outputs": [
    {
     "data": {
      "text/plain": [
       "cluster\n",
       "0.0    AxesSubplot(0.125,0.125;0.775x0.755)\n",
       "1.0    AxesSubplot(0.125,0.125;0.775x0.755)\n",
       "Name: Coastline (coast/area ratio), dtype: object"
      ]
     },
     "execution_count": 111,
     "metadata": {},
     "output_type": "execute_result"
    },
    {
     "data": {
      "image/png": "[encoded data removed]",
      "text/plain": [
       "<Figure size 432x288 with 1 Axes>"
      ]
     },
     "metadata": {
      "needs_background": "light"
     },
     "output_type": "display_data"
    }
   ],
   "source": [
    "df_Analisis.groupby([\"cluster\"])[\"Coastline (coast/area ratio)\"].plot.density()"
   ]
  },
  {
   "cell_type": "code",
   "execution_count": 112,
   "metadata": {},
   "outputs": [
    {
     "data": {
      "text/plain": [
       "cluster\n",
       "0.0    AxesSubplot(0.125,0.125;0.775x0.755)\n",
       "1.0    AxesSubplot(0.125,0.125;0.775x0.755)\n",
       "Name: Net migration, dtype: object"
      ]
     },
     "execution_count": 112,
     "metadata": {},
     "output_type": "execute_result"
    },
    {
     "data": {
      "image/png": "[encoded data removed]",
      "text/plain": [
       "<Figure size 432x288 with 1 Axes>"
      ]
     },
     "metadata": {
      "needs_background": "light"
     },
     "output_type": "display_data"
    }
   ],
   "source": [
    "df_Analisis.groupby([\"cluster\"])[\"Net migration\"].plot.density()"
   ]
  },
  {
   "cell_type": "code",
   "execution_count": 113,
   "metadata": {},
   "outputs": [
    {
     "data": {
      "text/plain": [
       "cluster\n",
       "0.0    AxesSubplot(0.125,0.125;0.775x0.755)\n",
       "1.0    AxesSubplot(0.125,0.125;0.775x0.755)\n",
       "Name: Infant mortality (per 1000 births), dtype: object"
      ]
     },
     "execution_count": 113,
     "metadata": {},
     "output_type": "execute_result"
    },
    {
     "data": {
      "image/png": "[encoded data removed]",
      "text/plain": [
       "<Figure size 432x288 with 1 Axes>"
      ]
     },
     "metadata": {
      "needs_background": "light"
     },
     "output_type": "display_data"
    }
   ],
   "source": [
    "df_Analisis.groupby([\"cluster\"])[\"Infant mortality (per 1000 births)\"].plot.density()"
   ]
  },
  {
   "cell_type": "code",
   "execution_count": 114,
   "metadata": {},
   "outputs": [
    {
     "data": {
      "text/plain": [
       "cluster\n",
       "0.0    AxesSubplot(0.125,0.125;0.775x0.755)\n",
       "1.0    AxesSubplot(0.125,0.125;0.775x0.755)\n",
       "Name: GDP ($ per capita), dtype: object"
      ]
     },
     "execution_count": 114,
     "metadata": {},
     "output_type": "execute_result"
    },
    {
     "data": {
      "image/png": "[encoded data removed]",
      "text/plain": [
       "<Figure size 432x288 with 1 Axes>"
      ]
     },
     "metadata": {
      "needs_background": "light"
     },
     "output_type": "display_data"
    }
   ],
   "source": [
    "df_Analisis.groupby([\"cluster\"])[\"GDP ($ per capita)\"].plot.density()"
   ]
  },
  {
   "cell_type": "code",
   "execution_count": 115,
   "metadata": {},
   "outputs": [
    {
     "data": {
      "text/plain": [
       "cluster\n",
       "0.0    AxesSubplot(0.125,0.125;0.775x0.755)\n",
       "1.0    AxesSubplot(0.125,0.125;0.775x0.755)\n",
       "Name: Literacy (%), dtype: object"
      ]
     },
     "execution_count": 115,
     "metadata": {},
     "output_type": "execute_result"
    },
    {
     "data": {
      "image/png": "[encoded data removed]",
      "text/plain": [
       "<Figure size 432x288 with 1 Axes>"
      ]
     },
     "metadata": {
      "needs_background": "light"
     },
     "output_type": "display_data"
    }
   ],
   "source": [
    "df_Analisis.groupby([\"cluster\"])[\"Literacy (%)\"].plot.density()"
   ]
  },
  {
   "cell_type": "code",
   "execution_count": 116,
   "metadata": {},
   "outputs": [
    {
     "data": {
      "text/plain": [
       "cluster\n",
       "0.0    AxesSubplot(0.125,0.125;0.775x0.755)\n",
       "1.0    AxesSubplot(0.125,0.125;0.775x0.755)\n",
       "Name: Phones (per 1000), dtype: object"
      ]
     },
     "execution_count": 116,
     "metadata": {},
     "output_type": "execute_result"
    },
    {
     "data": {
      "image/png": "[encoded data removed]",
      "text/plain": [
       "<Figure size 432x288 with 1 Axes>"
      ]
     },
     "metadata": {
      "needs_background": "light"
     },
     "output_type": "display_data"
    }
   ],
   "source": [
    "df_Analisis.groupby([\"cluster\"])[\"Phones (per 1000)\"].plot.density()"
   ]
  },
  {
   "cell_type": "code",
   "execution_count": 117,
   "metadata": {},
   "outputs": [
    {
     "data": {
      "text/plain": [
       "cluster\n",
       "0.0    AxesSubplot(0.125,0.125;0.775x0.755)\n",
       "1.0    AxesSubplot(0.125,0.125;0.775x0.755)\n",
       "Name: Arable (%), dtype: object"
      ]
     },
     "execution_count": 117,
     "metadata": {},
     "output_type": "execute_result"
    },
    {
     "data": {
      "image/png": "[encoded data removed]",
      "text/plain": [
       "<Figure size 432x288 with 1 Axes>"
      ]
     },
     "metadata": {
      "needs_background": "light"
     },
     "output_type": "display_data"
    }
   ],
   "source": [
    "df_Analisis.groupby([\"cluster\"])[\"Arable (%)\"].plot.density()"
   ]
  },
  {
   "cell_type": "code",
   "execution_count": 118,
   "metadata": {},
   "outputs": [
    {
     "data": {
      "text/plain": [
       "cluster\n",
       "0.0    AxesSubplot(0.125,0.125;0.775x0.755)\n",
       "1.0    AxesSubplot(0.125,0.125;0.775x0.755)\n",
       "Name: Crops (%), dtype: object"
      ]
     },
     "execution_count": 118,
     "metadata": {},
     "output_type": "execute_result"
    },
    {
     "data": {
      "image/png": "[encoded data removed]",
      "text/plain": [
       "<Figure size 432x288 with 1 Axes>"
      ]
     },
     "metadata": {
      "needs_background": "light"
     },
     "output_type": "display_data"
    }
   ],
   "source": [
    "df_Analisis.groupby([\"cluster\"])[\"Crops (%)\"].plot.density()"
   ]
  },
  {
   "cell_type": "code",
   "execution_count": 119,
   "metadata": {},
   "outputs": [
    {
     "data": {
      "text/plain": [
       "cluster\n",
       "0.0    AxesSubplot(0.125,0.125;0.775x0.755)\n",
       "1.0    AxesSubplot(0.125,0.125;0.775x0.755)\n",
       "Name: Other (%), dtype: object"
      ]
     },
     "execution_count": 119,
     "metadata": {},
     "output_type": "execute_result"
    },
    {
     "data": {
      "image/png": "[encoded data removed]",
      "text/plain": [
       "<Figure size 432x288 with 1 Axes>"
      ]
     },
     "metadata": {
      "needs_background": "light"
     },
     "output_type": "display_data"
    }
   ],
   "source": [
    "df_Analisis.groupby([\"cluster\"])[\"Other (%)\"].plot.density()"
   ]
  },
  {
   "cell_type": "code",
   "execution_count": 120,
   "metadata": {},
   "outputs": [
    {
     "data": {
      "text/plain": [
       "cluster\n",
       "0.0    AxesSubplot(0.125,0.125;0.775x0.755)\n",
       "1.0    AxesSubplot(0.125,0.125;0.775x0.755)\n",
       "Name: Climate, dtype: object"
      ]
     },
     "execution_count": 120,
     "metadata": {},
     "output_type": "execute_result"
    },
    {
     "data": {
      "image/png": "[encoded data removed]",
      "text/plain": [
       "<Figure size 432x288 with 1 Axes>"
      ]
     },
     "metadata": {
      "needs_background": "light"
     },
     "output_type": "display_data"
    }
   ],
   "source": [
    "df_Analisis.groupby([\"cluster\"])[\"Climate\"].plot.density()"
   ]
  },
  {
   "cell_type": "code",
   "execution_count": 121,
   "metadata": {},
   "outputs": [
    {
     "data": {
      "text/plain": [
       "cluster\n",
       "0.0    AxesSubplot(0.125,0.125;0.775x0.755)\n",
       "1.0    AxesSubplot(0.125,0.125;0.775x0.755)\n",
       "Name: Birthrate, dtype: object"
      ]
     },
     "execution_count": 121,
     "metadata": {},
     "output_type": "execute_result"
    },
    {
     "data": {
      "image/png": "[encoded data removed]",
      "text/plain": [
       "<Figure size 432x288 with 1 Axes>"
      ]
     },
     "metadata": {
      "needs_background": "light"
     },
     "output_type": "display_data"
    }
   ],
   "source": [
    "df_Analisis.groupby([\"cluster\"])[\"Birthrate\"].plot.density()"
   ]
  },
  {
   "cell_type": "code",
   "execution_count": 122,
   "metadata": {},
   "outputs": [
    {
     "data": {
      "text/plain": [
       "cluster\n",
       "0.0    AxesSubplot(0.125,0.125;0.775x0.755)\n",
       "1.0    AxesSubplot(0.125,0.125;0.775x0.755)\n",
       "Name: Deathrate, dtype: object"
      ]
     },
     "execution_count": 122,
     "metadata": {},
     "output_type": "execute_result"
    },
    {
     "data": {
      "image/png": "[encoded data removed]",
      "text/plain": [
       "<Figure size 432x288 with 1 Axes>"
      ]
     },
     "metadata": {
      "needs_background": "light"
     },
     "output_type": "display_data"
    }
   ],
   "source": [
    "df_Analisis.groupby([\"cluster\"])[\"Deathrate\"].plot.density()"
   ]
  },
  {
   "cell_type": "code",
   "execution_count": 123,
   "metadata": {},
   "outputs": [
    {
     "data": {
      "text/plain": [
       "cluster\n",
       "0.0    AxesSubplot(0.125,0.125;0.775x0.755)\n",
       "1.0    AxesSubplot(0.125,0.125;0.775x0.755)\n",
       "Name: Agriculture, dtype: object"
      ]
     },
     "execution_count": 123,
     "metadata": {},
     "output_type": "execute_result"
    },
    {
     "data": {
      "image/png": "[encoded data removed]",
      "text/plain": [
       "<Figure size 432x288 with 1 Axes>"
      ]
     },
     "metadata": {
      "needs_background": "light"
     },
     "output_type": "display_data"
    }
   ],
   "source": [
    "df_Analisis.groupby([\"cluster\"])[\"Agriculture\"].plot.density()"
   ]
  },
  {
   "cell_type": "code",
   "execution_count": 124,
   "metadata": {},
   "outputs": [
    {
     "data": {
      "text/plain": [
       "cluster\n",
       "0.0    AxesSubplot(0.125,0.125;0.775x0.755)\n",
       "1.0    AxesSubplot(0.125,0.125;0.775x0.755)\n",
       "Name: Industry, dtype: object"
      ]
     },
     "execution_count": 124,
     "metadata": {},
     "output_type": "execute_result"
    },
    {
     "data": {
      "image/png": "[encoded data removed]",
      "text/plain": [
       "<Figure size 432x288 with 1 Axes>"
      ]
     },
     "metadata": {
      "needs_background": "light"
     },
     "output_type": "display_data"
    }
   ],
   "source": [
    "df_Analisis.groupby([\"cluster\"])[\"Industry\"].plot.density()"
   ]
  },
  {
   "cell_type": "code",
   "execution_count": 125,
   "metadata": {},
   "outputs": [
    {
     "data": {
      "text/plain": [
       "cluster\n",
       "0.0    AxesSubplot(0.125,0.125;0.775x0.755)\n",
       "1.0    AxesSubplot(0.125,0.125;0.775x0.755)\n",
       "Name: Service, dtype: object"
      ]
     },
     "execution_count": 125,
     "metadata": {},
     "output_type": "execute_result"
    },
    {
     "data": {
      "image/png": "[encoded data removed]",
      "text/plain": [
       "<Figure size 432x288 with 1 Axes>"
      ]
     },
     "metadata": {
      "needs_background": "light"
     },
     "output_type": "display_data"
    }
   ],
   "source": [
    "df_Analisis.groupby([\"cluster\"])[\"Service\"].plot.density()"
   ]
  },
  {
   "cell_type": "markdown",
   "metadata": {},
   "source": [
    "En estas graficas podemos visualizar la distribucion de las variables en cada cluster.\n",
    "Observando las graficas vemos que dependiendo de la variable los clusters tienen mas separacion, o son mas parecidos, por lo que es mas dificil confundirlos. Casos en los que tengamos buena separacion son las variables \"Pop. Density (per sq. mi.)\" o \"Coastline (coast/area ratio)\", mientras que en el caso contrario, en el caso de que se confundan mas tenemos las variables \"Population\" o \"Agriculture\""
   ]
  },
  {
   "cell_type": "code",
   "execution_count": null,
   "metadata": {},
   "outputs": [],
   "source": []
  }
 ],
 "metadata": {
  "kernelspec": {
   "display_name": "Python 3",
   "language": "python",
   "name": "python3"
  },
  "language_info": {
   "codemirror_mode": {
    "name": "ipython",
    "version": 3
   },
   "file_extension": ".py",
   "mimetype": "text/x-python",
   "name": "python",
   "nbconvert_exporter": "python",
   "pygments_lexer": "ipython3",
   "version": "3.8.3"
  }
 },
 "nbformat": 4,
 "nbformat_minor": 5
}
